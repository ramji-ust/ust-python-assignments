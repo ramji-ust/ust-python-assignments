{
 "cells": [
  {
   "cell_type": "markdown",
   "id": "41589fcd-1dc2-4e8a-9f66-d5276660d0a7",
   "metadata": {},
   "source": [
    "## class exercises"
   ]
  },
  {
   "cell_type": "markdown",
   "id": "13a3cf0f-f871-4e29-89b6-66ecd1e09422",
   "metadata": {},
   "source": [
    "1. ***Create a employee class with the following features:name, age, company, gross_salary, tax_rate, net_salary***  \n",
    "***Implement methods to: print information, calculate net_salary based on tax rate, set the gross salary, set the tax rate***"
   ]
  },
  {
   "cell_type": "code",
   "execution_count": 1,
   "id": "82d649d1-eaa0-40ee-b9dd-dfae45e04ecf",
   "metadata": {},
   "outputs": [
    {
     "name": "stdout",
     "output_type": "stream",
     "text": [
      "Name: John Doe\n",
      "Age: 30\n",
      "Company: TechCorp\n",
      "Gross Salary: 80000\n",
      "Tax Rate: 15%\n",
      "Net Salary: 68000.0\n",
      "\n",
      "Updated Information:\n",
      "Name: John Doe\n",
      "Age: 30\n",
      "Company: TechCorp\n",
      "Gross Salary: 90000\n",
      "Tax Rate: 12%\n",
      "Net Salary: 79200.0\n"
     ]
    }
   ],
   "source": [
    "class Employee:\n",
    "    def __init__(self, name, age, company, gross_salary, tax_rate):\n",
    "        self.name = name\n",
    "        self.age = age\n",
    "        self.company = company\n",
    "        self.gross_salary = gross_salary\n",
    "        self.tax_rate = tax_rate\n",
    "        self.net_salary = self.calculate_net_salary()  # calculate net salary upon initialization\n",
    "\n",
    "    def calculate_net_salary(self):\n",
    "        # Calculate net salary based on the gross salary and tax rate\n",
    "        return self.gross_salary - (self.gross_salary * self.tax_rate / 100)\n",
    "\n",
    "    def set_gross_salary(self, new_gross_salary):\n",
    "        # Set a new gross salary and recalculate net salary\n",
    "        self.gross_salary = new_gross_salary\n",
    "        self.net_salary = self.calculate_net_salary()\n",
    "\n",
    "    def set_tax_rate(self, new_tax_rate):\n",
    "        # Set a new tax rate and recalculate net salary\n",
    "        self.tax_rate = new_tax_rate\n",
    "        self.net_salary = self.calculate_net_salary()\n",
    "\n",
    "    def print_information(self):\n",
    "        # Print employee information\n",
    "        print(f\"Name: {self.name}\")\n",
    "        print(f\"Age: {self.age}\")\n",
    "        print(f\"Company: {self.company}\")\n",
    "        print(f\"Gross Salary: {self.gross_salary}\")\n",
    "        print(f\"Tax Rate: {self.tax_rate}%\")\n",
    "        print(f\"Net Salary: {self.net_salary}\")\n",
    "\n",
    "\n",
    "# Example usage\n",
    "employee1 = Employee(\"John Doe\", 30, \"TechCorp\", 80000, 15)\n",
    "employee1.print_information()\n",
    "\n",
    "# Update gross salary and tax rate\n",
    "employee1.set_gross_salary(90000)\n",
    "employee1.set_tax_rate(12)\n",
    "\n",
    "# Print updated information\n",
    "print(\"\\nUpdated Information:\")\n",
    "employee1.print_information()\n"
   ]
  },
  {
   "cell_type": "code",
   "execution_count": null,
   "id": "99dba3d2-330c-4ac6-810d-264738d05ab5",
   "metadata": {},
   "outputs": [],
   "source": []
  }
 ],
 "metadata": {
  "kernelspec": {
   "display_name": "Python 3 (ipykernel)",
   "language": "python",
   "name": "python3"
  },
  "language_info": {
   "codemirror_mode": {
    "name": "ipython",
    "version": 3
   },
   "file_extension": ".py",
   "mimetype": "text/x-python",
   "name": "python",
   "nbconvert_exporter": "python",
   "pygments_lexer": "ipython3",
   "version": "3.12.4"
  }
 },
 "nbformat": 4,
 "nbformat_minor": 5
}
