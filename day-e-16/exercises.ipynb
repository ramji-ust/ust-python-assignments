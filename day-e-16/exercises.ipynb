{
 "cells": [
  {
   "cell_type": "markdown",
   "id": "b56d61c5-78c4-46d8-86fc-78278a2038ac",
   "metadata": {},
   "source": [
    "## Session 2:"
   ]
  },
  {
   "cell_type": "markdown",
   "id": "8d7ce7f6-3b72-4d73-9f18-0c4f759042bc",
   "metadata": {},
   "source": [
    "#### Problem Statement: 1"
   ]
  },
  {
   "cell_type": "markdown",
   "id": "563a63b9-9457-487a-89d8-27c35f2b8105",
   "metadata": {},
   "source": [
    "#### You are tasked with developing a simple student record management system using SQLite3 in Python. The system should perform the following operations:\n",
    "\n",
    "Requirements:\n",
    "\n",
    "Create a SQLite database named school.db with a table students having fields:\n",
    "\n",
    "    id (INTEGER, Primary Key, Auto-increment)\n",
    "    name (TEXT)\n",
    "    age (INTEGER)\n",
    "    grade (TEXT)\n",
    "\n",
    "- Insert at least three student records into the table using parameterized queries.\n",
    "- Fetch and print all student records.\n",
    "- Update the grade of a specific student based on their name.\n",
    "- Delete a student record based on the id.\n",
    "- Display the remaining students and the total number of students.\n",
    "- Finalize and close the connection\n",
    "\n",
    "Deliverables:\n",
    "\n",
    "- Python code with all the required database operations.\n",
    "- Clear output showing the operations performed.\n",
    "- Use of best practices: parameterized queries, commit(), and close().\n"
   ]
  },
  {
   "cell_type": "code",
   "execution_count": 16,
   "id": "e8e36d5f-b5b5-4705-8516-97be143e9ed1",
   "metadata": {},
   "outputs": [],
   "source": [
    "import sqlite3\n",
    "conn = sqlite3.connect('school.db')\n",
    "cursor = conn.cursor()\n"
   ]
  },
  {
   "cell_type": "code",
   "execution_count": 17,
   "id": "570d72e5-d7c6-49e5-9e6c-dc36fa0e27c2",
   "metadata": {},
   "outputs": [
    {
     "data": {
      "text/plain": [
       "<sqlite3.Cursor at 0x1a29a6aab40>"
      ]
     },
     "execution_count": 17,
     "metadata": {},
     "output_type": "execute_result"
    }
   ],
   "source": [
    "cursor.execute('''\n",
    "CREATE TABLE IF NOT EXISTS students (\n",
    "    id INTEGER PRIMARY KEY AUTOINCREMENT,\n",
    "    name TEXT,\n",
    "    age INTEGER,\n",
    "    grade TEXT\n",
    ")\n",
    "''')"
   ]
  },
  {
   "cell_type": "code",
   "execution_count": 3,
   "id": "49d8c66f-7425-41d1-8326-66534257559b",
   "metadata": {},
   "outputs": [],
   "source": [
    "students_to_insert = [\n",
    "    ('Alice', 14, '8th'),\n",
    "    ('Bob', 15, '9th'),\n",
    "    ('Charlie', 13, '7th')\n",
    "]"
   ]
  },
  {
   "cell_type": "code",
   "execution_count": 4,
   "id": "8ad49c31-9b97-40ef-85d8-0001a192dc0c",
   "metadata": {},
   "outputs": [
    {
     "data": {
      "text/plain": [
       "<sqlite3.Cursor at 0x1a299936040>"
      ]
     },
     "execution_count": 4,
     "metadata": {},
     "output_type": "execute_result"
    }
   ],
   "source": [
    "cursor.executemany('INSERT INTO students (name, age, grade) VALUES (?, ?, ?)', students_to_insert)\n"
   ]
  },
  {
   "cell_type": "code",
   "execution_count": 14,
   "id": "1c1d737c-628c-447e-9260-53528ab8183c",
   "metadata": {},
   "outputs": [
    {
     "data": {
      "text/plain": [
       "[(1, 'Alice', 14, '8th'), (2, 'Bob', 15, '10th')]"
      ]
     },
     "execution_count": 14,
     "metadata": {},
     "output_type": "execute_result"
    }
   ],
   "source": [
    "cursor.execute('SELECT * FROM students')\n",
    "cursor.fetchall()"
   ]
  },
  {
   "cell_type": "code",
   "execution_count": null,
   "id": "078fe450-857a-4c62-b724-ae09961d4b57",
   "metadata": {},
   "outputs": [],
   "source": [
    "cursor.execute('UPDATE students SET grade = ? WHERE name = ?', ('10th', 'Bob'))\n"
   ]
  },
  {
   "cell_type": "code",
   "execution_count": 8,
   "id": "0453a042-cb51-4375-97ed-50e753038b0a",
   "metadata": {},
   "outputs": [
    {
     "data": {
      "text/plain": [
       "<sqlite3.Cursor at 0x1a299936040>"
      ]
     },
     "execution_count": 8,
     "metadata": {},
     "output_type": "execute_result"
    }
   ],
   "source": [
    "cursor.execute(\"DELETE FROM students WHERE name = ?\", (\"Charlie\",))\n"
   ]
  },
  {
   "cell_type": "code",
   "execution_count": 19,
   "id": "bea887c4-ead4-4a78-8a7c-85323a3e1065",
   "metadata": {},
   "outputs": [
    {
     "name": "stdout",
     "output_type": "stream",
     "text": [
      "Total number of employees: 2\n",
      "\n"
     ]
    }
   ],
   "source": [
    "# Count the number of employees\n",
    "cursor.execute(\"SELECT COUNT(*) FROM students\")\n",
    "count = cursor.fetchone()[0] \n",
    "print(f\"Total number of employees: {count}\\n\")"
   ]
  },
  {
   "cell_type": "code",
   "execution_count": 9,
   "id": "3535be37-3227-4aa7-b542-ae3a95df34c5",
   "metadata": {},
   "outputs": [
    {
     "data": {
      "text/plain": [
       "[(1, 'Alice', 14, '8th'), (2, 'Bob', 15, '10th')]"
      ]
     },
     "execution_count": 9,
     "metadata": {},
     "output_type": "execute_result"
    }
   ],
   "source": [
    "cursor.execute('''\n",
    "    SELECT * FROM students\n",
    "''')\n",
    "cursor.fetchall()"
   ]
  },
  {
   "cell_type": "code",
   "execution_count": 10,
   "id": "13a4275d-e8d6-4cf9-8997-1cc202d7e7d9",
   "metadata": {},
   "outputs": [],
   "source": [
    "conn.commit()\n",
    "conn.close()"
   ]
  },
  {
   "cell_type": "code",
   "execution_count": null,
   "id": "35c31567-f78c-4563-a20c-1b1c710baa5a",
   "metadata": {},
   "outputs": [],
   "source": []
  }
 ],
 "metadata": {
  "kernelspec": {
   "display_name": "Python 3 (ipykernel)",
   "language": "python",
   "name": "python3"
  },
  "language_info": {
   "codemirror_mode": {
    "name": "ipython",
    "version": 3
   },
   "file_extension": ".py",
   "mimetype": "text/x-python",
   "name": "python",
   "nbconvert_exporter": "python",
   "pygments_lexer": "ipython3",
   "version": "3.12.4"
  }
 },
 "nbformat": 4,
 "nbformat_minor": 5
}
