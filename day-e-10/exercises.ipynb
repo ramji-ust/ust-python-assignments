{
 "cells": [
  {
   "cell_type": "code",
   "execution_count": 58,
   "id": "787ded43-c85a-4156-bfa8-299dcda81c24",
   "metadata": {},
   "outputs": [],
   "source": [
    "class Car:\n",
    "    def __init__(self,brand, model, year, mileage=0 , fuel_level=100):\n",
    "        self.brand = brand\n",
    "        self.model = model\n",
    "        self.year = year\n",
    "        self.milage = mileage\n",
    "        self.fuel_level = fuel_level\n",
    "    def drive(self, distance):\n",
    "        self.mileage += distance\n",
    "        fuel_consumed = distance * 1\n",
    "        print(fuel_consumed)\n",
    "\n",
    "    def display_info(self):\n",
    "        print(f\"Car Details: \\n Brand: {self.brand} \\n Model: {self.model} \\n Year: {self.year} \\n Milage: {self.milage} \\n Fuel_level: {self.fuel_level}\")\n"
   ]
  },
  {
   "cell_type": "code",
   "execution_count": 106,
   "id": "5d9567d3-25c4-41d8-a514-2eab89c22093",
   "metadata": {},
   "outputs": [],
   "source": [
    "class ElectricCar(Car):\n",
    "    def __init__(self ,brand):\n",
    "        self.brand = \"helooo toyota\"\n",
    "        self.range = \"my range\"\n",
    "        print(f\"just a demo {self.range}\")"
   ]
  },
  {
   "cell_type": "code",
   "execution_count": 110,
   "id": "b840e904-23b7-45d5-9503-c419a71d49d0",
   "metadata": {},
   "outputs": [],
   "source": [
    "Ecar = ElectricCar(\"Toyotaaaaa\",\"urban\",2025,20)"
   ]
  },
  {
   "cell_type": "code",
   "execution_count": 111,
   "id": "293fdac4-57de-4d6e-b4a0-bc792ccb2631",
   "metadata": {},
   "outputs": [
    {
     "name": "stdout",
     "output_type": "stream",
     "text": [
      "Car Details: \n",
      " Brand: Toyotaaaaa \n",
      " Model: urban \n",
      " Year: 2025 \n",
      " Milage: 20 \n",
      " Fuel_level: 100\n"
     ]
    }
   ],
   "source": [
    "Ecar.display_info()\n"
   ]
  },
  {
   "cell_type": "code",
   "execution_count": 63,
   "id": "965c79bf-4e06-4aee-8131-ae39a1fbc915",
   "metadata": {},
   "outputs": [],
   "source": [
    "car = Car(\"Toyota\",\"urban\",2025,20)"
   ]
  },
  {
   "cell_type": "code",
   "execution_count": 60,
   "id": "0d37c72f-429f-4295-a3d3-6f29be860a24",
   "metadata": {},
   "outputs": [
    {
     "name": "stdout",
     "output_type": "stream",
     "text": [
      "Car Details: \n",
      " Brand: Toyota \n",
      " Model: urban \n",
      " Year: 2025 \n",
      " Milage: 20 \n",
      " Fuel_level: 100\n"
     ]
    }
   ],
   "source": [
    "car.display_info()"
   ]
  },
  {
   "cell_type": "code",
   "execution_count": 64,
   "id": "6eb9164d-5151-435a-9871-db3e3f52a817",
   "metadata": {},
   "outputs": [
    {
     "ename": "AttributeError",
     "evalue": "'Car' object has no attribute 'mileage'",
     "output_type": "error",
     "traceback": [
      "\u001b[1;31m---------------------------------------------------------------------------\u001b[0m",
      "\u001b[1;31mAttributeError\u001b[0m                            Traceback (most recent call last)",
      "Cell \u001b[1;32mIn[64], line 1\u001b[0m\n\u001b[1;32m----> 1\u001b[0m car\u001b[38;5;241m.\u001b[39mdrive(\u001b[38;5;241m100\u001b[39m)\n",
      "Cell \u001b[1;32mIn[58], line 9\u001b[0m, in \u001b[0;36mCar.drive\u001b[1;34m(self, distance)\u001b[0m\n\u001b[0;32m      8\u001b[0m \u001b[38;5;28;01mdef\u001b[39;00m \u001b[38;5;21mdrive\u001b[39m(\u001b[38;5;28mself\u001b[39m, distance):\n\u001b[1;32m----> 9\u001b[0m     \u001b[38;5;28mself\u001b[39m\u001b[38;5;241m.\u001b[39mmileage \u001b[38;5;241m+\u001b[39m\u001b[38;5;241m=\u001b[39m distance\n\u001b[0;32m     10\u001b[0m     fuel_consumed \u001b[38;5;241m=\u001b[39m distance \u001b[38;5;241m*\u001b[39m \u001b[38;5;241m1\u001b[39m\n\u001b[0;32m     11\u001b[0m     \u001b[38;5;28mprint\u001b[39m(fuel_consumed)\n",
      "\u001b[1;31mAttributeError\u001b[0m: 'Car' object has no attribute 'mileage'"
     ]
    }
   ],
   "source": [
    "car.drive(100)"
   ]
  },
  {
   "cell_type": "code",
   "execution_count": null,
   "id": "83066da2-1d06-462e-86f4-13bfa07fcb1c",
   "metadata": {},
   "outputs": [],
   "source": []
  },
  {
   "cell_type": "code",
   "execution_count": null,
   "id": "1b43e9f9-9273-434a-a8be-c106e2063c19",
   "metadata": {},
   "outputs": [],
   "source": []
  }
 ],
 "metadata": {
  "kernelspec": {
   "display_name": "Python 3 (ipykernel)",
   "language": "python",
   "name": "python3"
  },
  "language_info": {
   "codemirror_mode": {
    "name": "ipython",
    "version": 3
   },
   "file_extension": ".py",
   "mimetype": "text/x-python",
   "name": "python",
   "nbconvert_exporter": "python",
   "pygments_lexer": "ipython3",
   "version": "3.12.4"
  }
 },
 "nbformat": 4,
 "nbformat_minor": 5
}
