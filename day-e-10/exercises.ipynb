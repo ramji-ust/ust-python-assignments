{
 "cells": [
  {
   "cell_type": "markdown",
   "id": "1225df40-4115-4157-b6ce-f8cb84709b61",
   "metadata": {},
   "source": [
    "## Session 1"
   ]
  },
  {
   "cell_type": "markdown",
   "id": "608887c9-5f33-48e6-ae47-f06047827e1f",
   "metadata": {},
   "source": [
    "1. ***Basic Class Creation: Car***\n"
   ]
  },
  {
   "cell_type": "markdown",
   "id": "0516c467-5eeb-45ea-9927-c13a0442569d",
   "metadata": {},
   "source": [
    "***Task: Create a class Car with attributes and methods as follows:***  \n",
    "***Attributes: brand, model, year, mileage***  \n",
    "***Methods:***  \n",
    "***drive(distance): Increases mileage by distance.***  \n",
    "***display_info(): Prints all details of the car.***  \n",
    "***✅ Enhance: Add a fuel_level attribute and a method refuel(amount) to increase it.***  \n",
    "***Adjust rest of the attributes accordinly***  "
   ]
  },
  {
   "cell_type": "code",
   "execution_count": 5,
   "id": "380ed55a-12d1-4935-9461-e8b68a7709ef",
   "metadata": {},
   "outputs": [
    {
     "name": "stdout",
     "output_type": "stream",
     "text": [
      "Brand: Toyota\n",
      "Model: Camry\n",
      "Year: 2020\n",
      "Mileage: 15100\n",
      "Fuel Level: 100%\n"
     ]
    }
   ],
   "source": [
    "class Car:\n",
    "    def __init__(self, brand, model, year, mileage, fuel_level=100):\n",
    "        self.brand = brand\n",
    "        self.model = model\n",
    "        self.year = year\n",
    "        self.mileage = mileage\n",
    "        self.fuel_level = fuel_level\n",
    "\n",
    "    def drive(self, distance):\n",
    "        # Increases mileage and reduces fuel level based on distance\n",
    "        self.mileage += distance\n",
    "        self.fuel_level -= distance * 0.1  # Assuming 1 unit of fuel for every 10 units of distance\n",
    "\n",
    "    def refuel(self, amount):\n",
    "        # Increases fuel level by the given amount (max 100)\n",
    "        self.fuel_level = min(self.fuel_level + amount, 100)\n",
    "\n",
    "    def display_info(self):\n",
    "        print(f\"Brand: {self.brand}\")\n",
    "        print(f\"Model: {self.model}\")\n",
    "        print(f\"Year: {self.year}\")\n",
    "        print(f\"Mileage: {self.mileage}\")\n",
    "        print(f\"Fuel Level: {self.fuel_level}%\")\n",
    "\n",
    "# Example usage\n",
    "car1 = Car(\"Toyota\", \"Camry\", 2020, 15000)\n",
    "car1.drive(100)\n",
    "car1.refuel(20)\n",
    "car1.display_info()\n"
   ]
  },
  {
   "cell_type": "markdown",
   "id": "a3759796-2033-4bb4-b601-2be6c649f8ac",
   "metadata": {},
   "source": [
    "2. ***Class with Encapsulation: BankAccount***"
   ]
  },
  {
   "cell_type": "markdown",
   "id": "6822a5e0-a488-49ed-ba46-1eabf596e05e",
   "metadata": {},
   "source": [
    "***Task: Implement a BankAccount class with:***  \n",
    "***Attributes: balance, account_number***  \n",
    "***Methods:***  \n",
    "***deposit(amount): Adds money to balance.***  \n",
    "***withdraw(amount): Deducts money if enough balance is available.***  \n",
    "***get_balance(): Returns balance.***  \n",
    "***✅ Enhance: Prevent withdrawal if balance falls below a minimum threshold.***  "
   ]
  },
  {
   "cell_type": "code",
   "execution_count": 7,
   "id": "fdbb8743-58d2-48ea-b826-8e8cb7c96b1a",
   "metadata": {},
   "outputs": [
    {
     "name": "stdout",
     "output_type": "stream",
     "text": [
      "Deposited: 200\n",
      "Withdrew: 300\n",
      "Current Balance: 900\n"
     ]
    }
   ],
   "source": [
    "class BankAccount:\n",
    "    def __init__(self, balance, account_number, min_balance=50):\n",
    "        self._balance = balance\n",
    "        self.account_number = account_number\n",
    "        self.min_balance = min_balance\n",
    "\n",
    "    def deposit(self, amount):\n",
    "        if amount > 0:\n",
    "            self._balance += amount\n",
    "            print(f\"Deposited: {amount}\")\n",
    "        else:\n",
    "            print(\"Invalid deposit amount.\")\n",
    "\n",
    "    def withdraw(self, amount):\n",
    "        if amount > 0 and self._balance - amount >= self.min_balance:\n",
    "            self._balance -= amount\n",
    "            print(f\"Withdrew: {amount}\")\n",
    "        else:\n",
    "            print(\"Insufficient funds or below minimum balance.\")\n",
    "\n",
    "    def get_balance(self):\n",
    "        return self._balance\n",
    "\n",
    "# Example usage\n",
    "account1 = BankAccount(1000, \"123456789\")\n",
    "account1.deposit(200)\n",
    "account1.withdraw(300)\n",
    "print(f\"Current Balance: {account1.get_balance()}\")\n"
   ]
  },
  {
   "cell_type": "markdown",
   "id": "3b104793-d932-4fe3-9c28-20f31d0c3924",
   "metadata": {},
   "source": [
    "3. ***Class with Methods and Properties: Rectangle***"
   ]
  },
  {
   "cell_type": "markdown",
   "id": "6920c979-cecf-44c8-8fe2-5f3275858134",
   "metadata": {},
   "source": [
    "***Task: Design a Rectangle class:***\n",
    "***Attributes: length, width***  \n",
    "***Methods:***  \n",
    "***area(): Returns area.***  \n",
    "***perimeter(): Returns perimeter.***  \n",
    "***is_square(): Returns True if it’s a square, otherwise False.***  \n",
    "***✅ Enhance: Use logic to prevent setting negative values for length and width.***  "
   ]
  },
  {
   "cell_type": "code",
   "execution_count": 9,
   "id": "396d052a-610a-4ec8-9be0-e82162cf5843",
   "metadata": {},
   "outputs": [
    {
     "name": "stdout",
     "output_type": "stream",
     "text": [
      "Area: 50\n",
      "Perimeter: 30\n",
      "Is Square: False\n",
      "Length must be positive.\n"
     ]
    }
   ],
   "source": [
    "class Rectangle:\n",
    "    def __init__(self, length, width):\n",
    "        self.length = length\n",
    "        self.width = width\n",
    "\n",
    "    def area(self):\n",
    "        return self.length * self.width\n",
    "\n",
    "    def perimeter(self):\n",
    "        return 2 * (self.length + self.width)\n",
    "\n",
    "    def is_square(self):\n",
    "        return self.length == self.width\n",
    "\n",
    "    @property\n",
    "    def length(self):\n",
    "        return self._length\n",
    "\n",
    "    @length.setter\n",
    "    def length(self, value):\n",
    "        if value > 0:\n",
    "            self._length = value\n",
    "        else:\n",
    "            raise ValueError(\"Length must be positive.\")\n",
    "\n",
    "    @property\n",
    "    def width(self):\n",
    "        return self._width\n",
    "\n",
    "    @width.setter\n",
    "    def width(self, value):\n",
    "        if value > 0:\n",
    "            self._width = value\n",
    "        else:\n",
    "            raise ValueError(\"Width must be positive.\")\n",
    "\n",
    "# Example usage\n",
    "rectangle1 = Rectangle(5, 10)\n",
    "print(f\"Area: {rectangle1.area()}\")\n",
    "print(f\"Perimeter: {rectangle1.perimeter()}\")\n",
    "print(f\"Is Square: {rectangle1.is_square()}\")\n",
    "\n",
    "# Trying to set negative value\n",
    "try:\n",
    "    rectangle1.length = -5\n",
    "except ValueError as e:\n",
    "    print(e)\n"
   ]
  },
  {
   "cell_type": "markdown",
   "id": "fda9e761-5b59-4873-a8c6-418a8659160f",
   "metadata": {},
   "source": [
    "## Session 2"
   ]
  },
  {
   "cell_type": "markdown",
   "id": "6039b3a2-904e-4d2e-a442-4f0e3f3d55fe",
   "metadata": {},
   "source": [
    "1. ***Implement a Car Class and an ElectricCar Subclass***"
   ]
  },
  {
   "cell_type": "markdown",
   "id": "88db2666-56a3-403e-92ec-65447d4ec585",
   "metadata": {},
   "source": [
    "***Objective:***  \n",
    "Create a Car class with attributes and methods to manage car details.  \n",
    "Extend it to an ElectricCar subclass with additional attributes and methods.  \n",
    "\n",
    "***Tasks:***  \n",
    "Implement a class Car with attributes:  \n",
    "brand, model, year, mileage  \n",
    "\n",
    "***Add methods:***    \n",
    "drive(distance): Increases mileage  \n",
    "display_info(): Displays car details  \n",
    "\n",
    "Create a subclass ElectricCar with additional attributes:  \n",
    "battery_capacity, charge_level (default 100)  \n",
    "\n",
    "***Add a method:***    \n",
    "charge(amount): Increases charge level (max 100).  \n",
    "\n",
    "Override display_info() to include battery details.  \n",
    "Create objects for both classes and demonstrate method usage.  "
   ]
  },
  {
   "cell_type": "code",
   "execution_count": 12,
   "id": "ef8c8330-b3d4-49df-af26-0eca52be35d1",
   "metadata": {},
   "outputs": [
    {
     "name": "stdout",
     "output_type": "stream",
     "text": [
      "Brand: Toyota\n",
      "Model: Corolla\n",
      "Year: 2021\n",
      "Mileage: 20000\n",
      "\n",
      "Brand: Tesla\n",
      "Model: Model 3\n",
      "Year: 2022\n",
      "Mileage: 15000\n",
      "Battery Capacity: 75 kWh\n",
      "Charge Level: 100%\n"
     ]
    }
   ],
   "source": [
    "class Car:\n",
    "    def __init__(self, brand, model, year, mileage):\n",
    "        self.brand = brand\n",
    "        self.model = model\n",
    "        self.year = year\n",
    "        self.mileage = mileage\n",
    "\n",
    "    def drive(self, distance):\n",
    "        self.mileage += distance\n",
    "\n",
    "    def display_info(self):\n",
    "        print(f\"Brand: {self.brand}\")\n",
    "        print(f\"Model: {self.model}\")\n",
    "        print(f\"Year: {self.year}\")\n",
    "        print(f\"Mileage: {self.mileage}\")\n",
    "\n",
    "class ElectricCar(Car):\n",
    "    def __init__(self, brand, model, year, mileage, battery_capacity, charge_level=100):\n",
    "        super().__init__(brand, model, year, mileage)\n",
    "        self.battery_capacity = battery_capacity\n",
    "        self.charge_level = charge_level\n",
    "\n",
    "    def charge(self, amount):\n",
    "        self.charge_level = min(self.charge_level + amount, 100)\n",
    "\n",
    "    def display_info(self):\n",
    "        super().display_info()\n",
    "        print(f\"Battery Capacity: {self.battery_capacity} kWh\")\n",
    "        print(f\"Charge Level: {self.charge_level}%\")\n",
    "\n",
    "# Example usage\n",
    "car1 = Car(\"Toyota\", \"Corolla\", 2021, 20000)\n",
    "electric_car1 = ElectricCar(\"Tesla\", \"Model 3\", 2022, 15000, 75)\n",
    "\n",
    "car1.display_info()\n",
    "print()\n",
    "electric_car1.display_info()\n"
   ]
  },
  {
   "cell_type": "markdown",
   "id": "6c938dea-a8bd-4801-a61a-fa9c94a67af7",
   "metadata": {},
   "source": [
    "2. ***Implement a BankAccount Class and a SavingsAccount Subclass***"
   ]
  },
  {
   "cell_type": "markdown",
   "id": "bd79dae2-3908-40ec-b008-3737b177e880",
   "metadata": {},
   "source": [
    "***Objective:***  \n",
    "Design a BankAccount class and extend it to a SavingsAccount subclass.  \n",
    "\n",
    "***Tasks:***  \n",
    "Create a class BankAccount with attributes:  \n",
    "account_number, balance  \n",
    "\n",
    "***Add methods:***  \n",
    "deposit(amount), withdraw(amount), get_balance()  \n",
    "\n",
    "Implement a subclass SavingsAccount with an additional attribute:  \n",
    "interest_rate (default 2.5%)  \n",
    "\n",
    "***Add a method:***  \n",
    "add_interest(): Computes and adds interest to balance.  \n",
    "\n",
    "Create objects and test deposits, withdrawals, and interest calculations.  "
   ]
  },
  {
   "cell_type": "code",
   "execution_count": 14,
   "id": "79cfe578-6690-4734-8127-75eaefc6d9d5",
   "metadata": {},
   "outputs": [
    {
     "name": "stdout",
     "output_type": "stream",
     "text": [
      "Deposited: 500\n",
      "Withdrew: 200\n",
      "Balance: 1300\n",
      "Interest added: 50.0\n",
      "Balance with Interest: 2050.0\n"
     ]
    }
   ],
   "source": [
    "class BankAccount:\n",
    "    def __init__(self, account_number, balance):\n",
    "        self.account_number = account_number\n",
    "        self.balance = balance\n",
    "\n",
    "    def deposit(self, amount):\n",
    "        if amount > 0:\n",
    "            self.balance += amount\n",
    "            print(f\"Deposited: {amount}\")\n",
    "        else:\n",
    "            print(\"Invalid deposit amount.\")\n",
    "\n",
    "    def withdraw(self, amount):\n",
    "        if amount > 0 and self.balance >= amount:\n",
    "            self.balance -= amount\n",
    "            print(f\"Withdrew: {amount}\")\n",
    "        else:\n",
    "            print(\"Insufficient funds.\")\n",
    "\n",
    "    def get_balance(self):\n",
    "        return self.balance\n",
    "\n",
    "class SavingsAccount(BankAccount):\n",
    "    def __init__(self, account_number, balance, interest_rate=2.5):\n",
    "        super().__init__(account_number, balance)\n",
    "        self.interest_rate = interest_rate\n",
    "\n",
    "    def add_interest(self):\n",
    "        interest = self.balance * (self.interest_rate / 100)\n",
    "        self.balance += interest\n",
    "        print(f\"Interest added: {interest}\")\n",
    "\n",
    "# Example usage\n",
    "account1 = BankAccount(\"123456\", 1000)\n",
    "savings1 = SavingsAccount(\"789101\", 2000)\n",
    "\n",
    "account1.deposit(500)\n",
    "account1.withdraw(200)\n",
    "print(f\"Balance: {account1.get_balance()}\")\n",
    "\n",
    "savings1.add_interest()\n",
    "print(f\"Balance with Interest: {savings1.get_balance()}\")\n"
   ]
  },
  {
   "cell_type": "markdown",
   "id": "7926cdec-f967-4087-b1d7-b0af0705899d",
   "metadata": {},
   "source": [
    "3. ***Implement a Rectangle Class and a Cuboid Subclass***"
   ]
  },
  {
   "cell_type": "code",
   "execution_count": null,
   "id": "0c7c8eb1-4fd2-4f1d-b434-a6622fe4f340",
   "metadata": {},
   "outputs": [],
   "source": [
    "Objective:***\n",
    "Implement a Rectangle class and extend it into a Cuboid subclass. \n",
    "\n",
    "Tasks:\n",
    "Create a Rectangle class with attributes:\n",
    "length, width\n",
    "\n",
    "Add methods:\n",
    "area(), perimeter(), is_square()\n",
    "\n",
    "Implement a Cuboid subclass with an additional attribute:\n",
    "height\n",
    "\n",
    "Add methods:\n",
    "volume(): Computes volume.\n",
    "surface_area(): Computes total surface area.\n",
    "\n",
    "Create objects and test area, volume, and surface area calculations."
   ]
  }
 ],
 "metadata": {
  "kernelspec": {
   "display_name": "Python 3 (ipykernel)",
   "language": "python",
   "name": "python3"
  },
  "language_info": {
   "codemirror_mode": {
    "name": "ipython",
    "version": 3
   },
   "file_extension": ".py",
   "mimetype": "text/x-python",
   "name": "python",
   "nbconvert_exporter": "python",
   "pygments_lexer": "ipython3",
   "version": "3.12.4"
  }
 },
 "nbformat": 4,
 "nbformat_minor": 5
}
