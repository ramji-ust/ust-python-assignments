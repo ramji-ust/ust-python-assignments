{
 "cells": [
  {
   "cell_type": "markdown",
   "metadata": {},
   "source": [
    "# Regular Expression Exercises in Python\n"
   ]
  },
  {
   "cell_type": "markdown",
   "metadata": {},
   "source": [
    "## Session 1"
   ]
  },
  {
   "cell_type": "markdown",
   "metadata": {},
   "source": [
    "1. ***Extract Floating Point Numbers***  \n",
    "    ***Text: \"This statement contains +1.234 floating -67.87 point 1.234 number\"***  \n",
    "    ***Task: Write a regex to extract the floating-point number from the text including sign***  "
   ]
  },
  {
   "cell_type": "code",
   "execution_count": null,
   "metadata": {},
   "outputs": [],
   "source": []
  },
  {
   "cell_type": "markdown",
   "metadata": {},
   "source": [
    "2. ***Find Email Addresses***  \n",
    "***Text: \"Contact us at support@example.com for more details\"***  \n",
    "***Task: Write a regex to extract the email address from the text.***  "
   ]
  },
  {
   "cell_type": "code",
   "execution_count": null,
   "metadata": {},
   "outputs": [],
   "source": []
  },
  {
   "cell_type": "markdown",
   "metadata": {},
   "source": [
    "3. ***Extract Dates***  \n",
    "***Text: \"Today's date is 2025-03-27\"***  \n",
    "***Task: Write a regex to extract the date in YYYY-MM-DD format.***  "
   ]
  },
  {
   "cell_type": "code",
   "execution_count": null,
   "metadata": {},
   "outputs": [],
   "source": []
  },
  {
   "cell_type": "markdown",
   "metadata": {},
   "source": [
    "4. ***Find Words with Double Letters***  \n",
    "***Text: \"I saw a little kitten running across the street\"***  \n",
    "***Task: Write a regex to extract words containing consecutive duplicate letters (e.g., little, kitten).***  \n",
    "***Answer: r\"\\w*(\\w)\\1\\w*\"***  "
   ]
  },
  {
   "cell_type": "code",
   "execution_count": null,
   "metadata": {},
   "outputs": [],
   "source": []
  },
  {
   "cell_type": "markdown",
   "metadata": {},
   "source": [
    "5. ***Extract Phone Numbers***  \n",
    "***Text: \"My phone numbers are (123) 456-7890 and 987-654-3210\"***  \n",
    "***Task: Write a regex to extract both phone numbers.***  "
   ]
  },
  {
   "cell_type": "code",
   "execution_count": null,
   "metadata": {},
   "outputs": [],
   "source": []
  },
  {
   "cell_type": "markdown",
   "metadata": {},
   "source": [
    "6. ***Find Hashtags in a Tweet***  \n",
    "***Text: \"Loving the #Python and #AI vibes today!\"***  \n",
    "***Task: Write a regex to extract all hashtags from the text.***  "
   ]
  },
  {
   "cell_type": "code",
   "execution_count": null,
   "metadata": {},
   "outputs": [],
   "source": []
  },
  {
   "cell_type": "markdown",
   "metadata": {},
   "source": [
    "7. ***Extract Digits from a String***  \n",
    "***Text: \"Order number: 98765, Confirmation code: 54321\"***  \n",
    "***Task: Write a regex to extract all numerical values.***  "
   ]
  },
  {
   "cell_type": "code",
   "execution_count": null,
   "metadata": {},
   "outputs": [],
   "source": []
  },
  {
   "cell_type": "markdown",
   "metadata": {},
   "source": [
    "8. ***Find Words Starting with a Capital Letter***\n",
    "***Text: \"Alice and Bob went to New York for a Conference\"***\n",
    "***Task: Write a regex to extract words that start with a capital letter.***"
   ]
  },
  {
   "cell_type": "code",
   "execution_count": null,
   "metadata": {},
   "outputs": [],
   "source": []
  },
  {
   "cell_type": "markdown",
   "metadata": {},
   "source": [
    "9. ***Find Words Starting with a Capital Letter***  \n",
    "***Text: \"Alice and Bob went to New York for a Conference\"***  \n",
    "***Task: Write a regex to extract words that start with a capital letter.***  "
   ]
  },
  {
   "cell_type": "code",
   "execution_count": null,
   "metadata": {},
   "outputs": [],
   "source": []
  },
  {
   "cell_type": "markdown",
   "metadata": {},
   "source": [
    "10. ***Extract Domain from URLs***  \n",
    "***Text: \"Visit https://www.example.com or http://test.org for info\"***  \n",
    "***Task: Write a regex to extract domain names from the URLs.***  "
   ]
  },
  {
   "cell_type": "code",
   "execution_count": null,
   "metadata": {},
   "outputs": [],
   "source": []
  },
  {
   "cell_type": "markdown",
   "metadata": {},
   "source": [
    "11. ***Find Repeated Words***  \n",
    "***Text: \"This is is a test test to find repeated repeated words\"***  \n",
    "***Task: Write a regex to find repeated words appearing consecutively.***  "
   ]
  },
  {
   "cell_type": "code",
   "execution_count": null,
   "metadata": {},
   "outputs": [],
   "source": []
  },
  {
   "cell_type": "markdown",
   "metadata": {},
   "source": [
    "12. ***Find HTML Tags***  \n",
    "***Text: \"<div>Welcome</div> <p>This is a paragraph.</p>\"***  \n",
    "***Task: Write a regex to extract all HTML tags.***  "
   ]
  },
  {
   "cell_type": "code",
   "execution_count": null,
   "metadata": {},
   "outputs": [],
   "source": []
  },
  {
   "cell_type": "markdown",
   "metadata": {},
   "source": [
    "13. ***Validate IPv4 Addresses***  \n",
    "***Text: \"Valid IP: 192.168.1.1, Invalid IP: 999.999.999.999\"***  \n",
    "***Task: Write a regex to validate IPv4 addresses.***  "
   ]
  },
  {
   "cell_type": "code",
   "execution_count": null,
   "metadata": {},
   "outputs": [],
   "source": []
  },
  {
   "cell_type": "markdown",
   "metadata": {},
   "source": [
    "14. ***Extract Words Ending with ‘ing’***  \n",
    "***Text: \"Running, swimming, and playing are fun activities\"***  \n",
    "***Task: Write a regex to extract words ending with ‘ing’.***  "
   ]
  },
  {
   "cell_type": "code",
   "execution_count": null,
   "metadata": {},
   "outputs": [],
   "source": []
  },
  {
   "cell_type": "markdown",
   "metadata": {},
   "source": [
    "15. ***Find Sentences Ending with a Question Mark***  \n",
    "***Text: \"Do you know the answer? Let's find out. Are you sure?\"***  \n",
    "***Task: Write a regex to extract all sentences ending with ?.***  "
   ]
  },
  {
   "cell_type": "code",
   "execution_count": null,
   "metadata": {},
   "outputs": [],
   "source": []
  },
  {
   "cell_type": "markdown",
   "metadata": {},
   "source": [
    "16. ***Extract Hex Color Codes***  \n",
    "***Text: \"Background color is #FF5733 and text color is #00FF00\"***  \n",
    "***Task: Write a regex to extract hex color codes.***  "
   ]
  },
  {
   "cell_type": "code",
   "execution_count": null,
   "metadata": {},
   "outputs": [],
   "source": []
  },
  {
   "cell_type": "markdown",
   "metadata": {},
   "source": [
    "17. ***Extract Usernames from Twitter Handles***  \n",
    "***Text: \"Follow us @ChatGPT and @OpenAI\"***  \n",
    "***Task: Write a regex to extract usernames after @.***  "
   ]
  },
  {
   "cell_type": "code",
   "execution_count": null,
   "metadata": {},
   "outputs": [],
   "source": []
  },
  {
   "cell_type": "markdown",
   "metadata": {},
   "source": [
    "18. ***Validate Strong Passwords***  \n",
    "***Text: \"My password is Str0ngP@ss!\"***  \n",
    "***Task: Write a regex to check if the password has at least 8 characters, including uppercase, lowercase, numbers, and special characters.***  "
   ]
  },
  {
   "cell_type": "code",
   "execution_count": null,
   "metadata": {},
   "outputs": [],
   "source": []
  },
  {
   "cell_type": "markdown",
   "metadata": {},
   "source": [
    "19. ***Extract File Names from a Path***  \n",
    "***Text: \"/home/user/documents/report.pdf and C:\\\\Users\\\\Admin\\\\file.txt\"***  \n",
    "***Task: Write a regex to extract file names from paths.***  "
   ]
  },
  {
   "cell_type": "code",
   "execution_count": null,
   "metadata": {},
   "outputs": [],
   "source": []
  },
  {
   "cell_type": "markdown",
   "metadata": {},
   "source": [
    "***Find Three Consecutive Vowels***  \n",
    "***Text: \"Beautiful ocean scenery is amazing\"***  \n",
    "***Task: Write a regex to find words containing three consecutive vowels.***  "
   ]
  },
  {
   "cell_type": "code",
   "execution_count": null,
   "metadata": {},
   "outputs": [],
   "source": []
  },
  {
   "cell_type": "markdown",
   "metadata": {},
   "source": []
  }
 ],
 "metadata": {
  "kernelspec": {
   "display_name": "myenv",
   "language": "python",
   "name": "python3"
  },
  "language_info": {
   "codemirror_mode": {
    "name": "ipython",
    "version": 3
   },
   "file_extension": ".py",
   "mimetype": "text/x-python",
   "name": "python",
   "nbconvert_exporter": "python",
   "pygments_lexer": "ipython3",
   "version": "3.13.3"
  }
 },
 "nbformat": 4,
 "nbformat_minor": 2
}
