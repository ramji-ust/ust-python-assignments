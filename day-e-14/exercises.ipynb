{
 "cells": [
  {
   "cell_type": "markdown",
   "id": "6c98152c-f275-4d7e-933e-9a6355dd8a9e",
   "metadata": {},
   "source": [
    "## Session 1:"
   ]
  },
  {
   "cell_type": "markdown",
   "id": "8089c5cc-81eb-4307-ac45-fae226dd4e33",
   "metadata": {},
   "source": [
    "#### Problem Statement #1:\n"
   ]
  },
  {
   "cell_type": "markdown",
   "id": "c959dfc8-fe1d-494f-a8cf-83a283006d67",
   "metadata": {},
   "source": [
    "#### Write a decorator called @log_function that prints the name of the \n",
    "#### function being called and its arguments before executing it.\n",
    "\n",
    "@log_function\n",
    "def greet(name):\n",
    "    print(f\"Hello, {name}!\")\n",
    "\n",
    "greet(\"Alice\") \n",
    "\n",
    "Output: \n",
    "Calling function: greet \n",
    "Arguments: 'Alice'\n",
    "Hello, Alice. How are you today?"
   ]
  },
  {
   "cell_type": "code",
   "execution_count": 19,
   "id": "acf41aef-c580-4e97-a587-f9fa7bfacd5b",
   "metadata": {},
   "outputs": [
    {
     "name": "stdout",
     "output_type": "stream",
     "text": [
      "Calling function: greet\n",
      "Arguments: Alice\n",
      "Hello, Alice! How are you today?\n"
     ]
    }
   ],
   "source": [
    "def log_funtion(func):\n",
    "\n",
    "    def wrapper(args):\n",
    "        print(f\"Calling function: {func.__name__}\")\n",
    "        print(f\"Arguments: {args}\")\n",
    "        return func(args)\n",
    "    return wrapper\n",
    "\n",
    "@log_funtion\n",
    "def greet(name):\n",
    "    print(f\"Hello, {name}! How are you today?\")\n",
    "\n",
    "greet(\"Alice\")"
   ]
  },
  {
   "cell_type": "markdown",
   "id": "754ba4b7-a2ff-4068-9496-25f9d8e74416",
   "metadata": {},
   "source": [
    "#### Problem Statement #2:\n"
   ]
  },
  {
   "cell_type": "markdown",
   "id": "2c33ad63-a686-4e0b-9c30-da1686584239",
   "metadata": {},
   "source": [
    "#### Write a decorator @double_result that doubles the result returned by any function.\n",
    "\n",
    "Example:\n",
    "\n",
    "@double_result\n",
    "def add(x, y):\n",
    "    return x + y\n",
    "\n",
    "print(add(3, 4))  # Output: 14"
   ]
  },
  {
   "cell_type": "code",
   "execution_count": 34,
   "id": "f36c3b2b-ab57-4309-ab2e-064018f8ea33",
   "metadata": {},
   "outputs": [
    {
     "name": "stdout",
     "output_type": "stream",
     "text": [
      "14\n"
     ]
    }
   ],
   "source": [
    "def double_result(func):\n",
    "    def wrapper(*args, **kwargs):\n",
    "        return func(*args, **kwargs) * 2\n",
    "    return wrapper\n",
    "@double_result\n",
    "def add(x, y):\n",
    "    return x + y\n",
    "\n",
    "print(add(3,4))"
   ]
  },
  {
   "cell_type": "markdown",
   "id": "26bb74c2-2d9e-4706-baec-c38d248eb038",
   "metadata": {},
   "source": [
    "#### Write a decorator @timer that prints how long a function takes to execute.\n",
    "\n",
    "import time\n",
    "\n",
    "@timer\n",
    "def slow_function():\n",
    "    time.sleep(1)\n",
    "    print(\"Done!\")\n",
    "\n",
    "slow_function() # 1 seconds"
   ]
  },
  {
   "cell_type": "code",
   "execution_count": 35,
   "id": "9e307d51-ed22-4fe0-a687-c4adf6fa0e77",
   "metadata": {},
   "outputs": [
    {
     "name": "stdout",
     "output_type": "stream",
     "text": [
      "Done!\n",
      "Function slow_function took 1.0012 seconds to run\n"
     ]
    }
   ],
   "source": [
    "import time\n",
    "\n",
    "def timing(func):\n",
    "    \n",
    "    def wrapper(*args, **kargs):\n",
    "        start = time.time()\n",
    "        result = func(*args, **kargs)\n",
    "        end = time.time()\n",
    "        print(f\"Function {func.__name__} took {end - start:.4f} seconds to run\")\n",
    "        return result\n",
    "\n",
    "    return wrapper\n",
    "\n",
    "@timing\n",
    "def slow_function():\n",
    "    time.sleep(1)\n",
    "    print(\"Done!\")\n",
    "\n",
    "slow_function()"
   ]
  },
  {
   "cell_type": "markdown",
   "id": "9fd87af8-dd9f-48b8-9d0e-d0fa17dd4be0",
   "metadata": {},
   "source": [
    "## Session 2\n"
   ]
  },
  {
   "cell_type": "markdown",
   "id": "dae323cd-2569-40ba-9127-dd2ded9049b8",
   "metadata": {},
   "source": [
    "### Problem Statement #1:\n"
   ]
  },
  {
   "cell_type": "markdown",
   "id": "5b7d4c31-38be-4854-b091-c47d2e3952d3",
   "metadata": {},
   "source": [
    "##### Create a Python class called Circle that represents a circle. The class should allow the following:\n",
    "\n",
    "##### Use @property to return the circumference of the circle using the formula 2 * π * radius.\n",
    "\n",
    "##### Use @classmethod to create a Circle instance from a diameter.\n",
    "\n",
    "##### Use @staticmethod to check if a given value is a valid radius (i.e., a positive number)."
   ]
  },
  {
   "cell_type": "code",
   "execution_count": 48,
   "id": "88e3c880-06f1-43b6-aa94-ee89f8067e25",
   "metadata": {},
   "outputs": [
    {
     "name": "stdout",
     "output_type": "stream",
     "text": [
      "Radius: 5\n",
      "Circumference: 31.42\n",
      "Radius from diameter: 5.0\n",
      "True\n",
      "False\n",
      "False\n"
     ]
    }
   ],
   "source": [
    "import math\n",
    "\n",
    "\n",
    "class Circle:\n",
    "    def __init__(self,radius):\n",
    "        if not self.is_valid_radius(radius):\n",
    "            raise ValueError(\"Radius must be a positive number.\")\n",
    "        self.radius = radius\n",
    "        \n",
    "    @property\n",
    "    def circumference(self):\n",
    "        return 2 * math.pi * self.radius\n",
    "\n",
    "    @classmethod\n",
    "    def from_diameter(cls, diameter):\n",
    "        radius = diameter / 2\n",
    "        return cls(radius)\n",
    "        \n",
    "    @staticmethod\n",
    "    def is_valid_radius(value):\n",
    "        return isinstance(value, (int, float)) and value > 0\n",
    "\n",
    "c1 = Circle(5)\n",
    "print(f\"Radius: {c1.radius}\")\n",
    "print(f\"Circumference: {c1.circumference:.2f}\")\n",
    "\n",
    "c2 = Circle.from_diameter(10)\n",
    "print(f\"Radius from diameter: {c2.radius}\") \n",
    "\n",
    "print(Circle.is_valid_radius(7))    # Output: True\n",
    "print(Circle.is_valid_radius(-3))   # Output: False\n",
    "print(Circle.is_valid_radius(\"hi\")) # Output: False\n"
   ]
  },
  {
   "cell_type": "markdown",
   "id": "a12a2ee3-793d-4728-8b9f-0df1444db630",
   "metadata": {},
   "source": [
    "## Problem Statement #2\n"
   ]
  },
  {
   "cell_type": "markdown",
   "id": "394000ce-1540-4830-8dab-2b8e669cc7a9",
   "metadata": {},
   "source": [
    "##### Create a class called BankAccount to represent a user’s bank account. \n",
    "The class should allow the following:\n",
    "\n",
    "##### Use @property to return the current balance with a message like \"Your balance is ₹5000\".\n",
    "\n",
    "##### Use @classmethod to create a BankAccount from a dictionary containing account details like:\n",
    "{\"name\": \"Alice\", \"balance\": 10000}\n",
    "\n",
    "##### Use @staticmethod to check if a given withdrawal amount is valid, i.e., \n",
    "it must be a positive number and less than or equal to the current balance."
   ]
  },
  {
   "cell_type": "code",
   "execution_count": null,
   "id": "1f3e5cc7-9189-49e6-8345-896dbaee4da1",
   "metadata": {},
   "outputs": [],
   "source": []
  }
 ],
 "metadata": {
  "kernelspec": {
   "display_name": "Python 3 (ipykernel)",
   "language": "python",
   "name": "python3"
  },
  "language_info": {
   "codemirror_mode": {
    "name": "ipython",
    "version": 3
   },
   "file_extension": ".py",
   "mimetype": "text/x-python",
   "name": "python",
   "nbconvert_exporter": "python",
   "pygments_lexer": "ipython3",
   "version": "3.12.4"
  }
 },
 "nbformat": 4,
 "nbformat_minor": 5
}
