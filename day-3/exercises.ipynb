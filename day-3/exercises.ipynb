{
 "cells": [
  {
   "cell_type": "markdown",
   "id": "301fe04e-bdc9-4663-a636-6ba2a796af05",
   "metadata": {},
   "source": [
    "## Session #1:\n"
   ]
  },
  {
   "cell_type": "markdown",
   "id": "38a34656-cc99-48db-824d-798aa78f93ad",
   "metadata": {},
   "source": [
    "#### Task: Insert \"Grapes\" between \"Banana\" and \"Cherry\".  \n"
   ]
  },
  {
   "cell_type": "code",
   "execution_count": 2,
   "id": "27a9e99a-a590-4434-9fa3-b705cc116895",
   "metadata": {},
   "outputs": [
    {
     "name": "stdout",
     "output_type": "stream",
     "text": [
      "['Apple', 'Banana', 'Grapes', 'Cherry', 'Mango']\n"
     ]
    }
   ],
   "source": [
    "basket = [\"Apple\", \"Banana\", \"Cherry\", \"Mango\"]  \n",
    "basket.insert(2, \"Grapes\")\n",
    "print(basket)"
   ]
  },
  {
   "cell_type": "markdown",
   "id": "85fa03bc-d327-47b0-aaf4-772b3f422c67",
   "metadata": {},
   "source": [
    "#### Task: Change 40 to 45 inside the nested list. data = [10, 20, [30, 40, 50], 60, 70]  \n"
   ]
  },
  {
   "cell_type": "code",
   "execution_count": 3,
   "id": "58e3e418-f6aa-41fc-b231-61e4c8760dd1",
   "metadata": {},
   "outputs": [
    {
     "name": "stdout",
     "output_type": "stream",
     "text": [
      "[10, 20, [30, 45, 50], 60, 70]\n"
     ]
    }
   ],
   "source": [
    "data = [10, 20, [30, 40, 50], 60, 70]  \n",
    "data[2][1]= 45\n",
    "print(data)"
   ]
  },
  {
   "cell_type": "markdown",
   "id": "b1154cbb-b8a6-41d3-8bde-f0c246553e31",
   "metadata": {},
   "source": [
    "#### Task: Extract [9, 12, 15] and reverse it.  nums = [3, 6, 9, 12, 15, 18, 21]  \n"
   ]
  },
  {
   "cell_type": "code",
   "execution_count": 8,
   "id": "b690efc5-2397-41bb-a839-8664f9344607",
   "metadata": {},
   "outputs": [
    {
     "name": "stdout",
     "output_type": "stream",
     "text": [
      "[15, 12, 9]\n"
     ]
    }
   ],
   "source": [
    "nums =  [3, 6, 9, 12, 15, 18, 21]\n",
    "extract_list = nums[2:5]\n",
    "extract=extract_list[::-1]\n",
    "print(extract)"
   ]
  },
  {
   "cell_type": "markdown",
   "id": "55c46f4f-d7a9-4f70-acaf-f9580e774441",
   "metadata": {},
   "source": [
    "### Task: Remove all occurrences of 5 from numbers. numbers = [5, 3, 8, 5, 10, 5, 12, 5]  \n"
   ]
  },
  {
   "cell_type": "code",
   "execution_count": 8,
   "id": "d97701a2-be04-4c84-af31-48670b86bcd9",
   "metadata": {},
   "outputs": [
    {
     "name": "stdout",
     "output_type": "stream",
     "text": [
      "[3, 8, 10, 12]\n"
     ]
    }
   ],
   "source": [
    "numbers = [5, 3, 8, 5, 10, 5, 12, 5]\n",
    "result = []\n",
    "\n",
    "for num in numbers:\n",
    "    if num != 5:\n",
    "        result.append(num)\n",
    "print(result)        "
   ]
  },
  {
   "cell_type": "markdown",
   "id": "255a00ee-bbe4-48a6-b749-10b130eea10e",
   "metadata": {},
   "source": [
    "#### Task: Merge list1 and list2, then sort the combined list.  list1 = [8, 3, 1, 7] list2 = [4, 9, 2, 6]  \n",
    " \n"
   ]
  },
  {
   "cell_type": "code",
   "execution_count": 10,
   "id": "87809fcd-1c09-4536-9d45-bd34ac465e06",
   "metadata": {},
   "outputs": [
    {
     "name": "stdout",
     "output_type": "stream",
     "text": [
      "[1, 2, 3, 4, 6, 7, 8, 9]\n"
     ]
    }
   ],
   "source": [
    "list1 = [8, 3, 1, 7]\n",
    "list2 = [4, 9, 2, 6]\n",
    "\n",
    "combined = list1 + list2\n",
    "combined.sort()\n",
    "\n",
    "print(combined)\n"
   ]
  },
  {
   "cell_type": "markdown",
   "id": "7f8f1d54-5f40-47cb-86c8-2c2ca53c258b",
   "metadata": {},
   "source": [
    "#### Task: Convert colors to a list, change \"Green\" to \"Cyan\", and convert it back to a tuple.colors = (\"Red\", \"Green\", \"Blue\", \"Yellow\")  \n",
    "  "
   ]
  },
  {
   "cell_type": "code",
   "execution_count": 17,
   "id": "01c072c4-9e46-4761-98ff-f4e8ad35d7dc",
   "metadata": {},
   "outputs": [
    {
     "name": "stdout",
     "output_type": "stream",
     "text": [
      "('Red', 'Cyan', 'Blue', 'Yellow')\n"
     ]
    }
   ],
   "source": [
    "colors = (\"Red\", \"Green\", \"Blue\", \"Yellow\")\n",
    "colors_list = list(colors)\n",
    "index = colors_list.index(\"Green\")\n",
    "colors_list[index] = \"Cyan\"\n",
    "colors = tuple(colors_list)\n",
    "print(colors)"
   ]
  },
  {
   "cell_type": "markdown",
   "id": "ca516cfb-4a83-4290-866e-06cbf5d5da59",
   "metadata": {},
   "source": [
    "#### Task: Find the index of \"Charlie\".  names = [\"Alice\", \"Bob\", \"Charlie\", \"David\", \"Eve\"]  "
   ]
  },
  {
   "cell_type": "code",
   "execution_count": 19,
   "id": "9baa767d-90a5-49a5-8851-a82843698ce1",
   "metadata": {},
   "outputs": [
    {
     "name": "stdout",
     "output_type": "stream",
     "text": [
      "2\n"
     ]
    }
   ],
   "source": [
    "names = [\"Alice\", \"Bob\", \"Charlie\", \"David\", \"Eve\"]\n",
    "index = names.index(\"Charlie\")\n",
    "print(index)"
   ]
  },
  {
   "cell_type": "markdown",
   "id": "742969fc-5e10-4601-b995-4605404529a6",
   "metadata": {},
   "source": [
    "#### Task: Count how many times 4 appears in nums_tuple. nums_tuple = (4, 2, 4, 6, 4, 8, 4, 10)  \n"
   ]
  },
  {
   "cell_type": "code",
   "execution_count": 20,
   "id": "52a871a2-b8d0-4bd9-b7a0-be4a2d360374",
   "metadata": {},
   "outputs": [
    {
     "name": "stdout",
     "output_type": "stream",
     "text": [
      "4\n"
     ]
    }
   ],
   "source": [
    "nums_tuple = (4, 2, 4, 6, 4, 8, 4, 10)\n",
    "print(nums_tuple.count(4))"
   ]
  },
  {
   "cell_type": "markdown",
   "id": "c33f1a8f-02d4-4241-be29-4f285d26b23f",
   "metadata": {},
   "source": [
    "#### Task: Swap the first and last elements.  values = [10, 20, 30, 40, 50]  \n"
   ]
  },
  {
   "cell_type": "code",
   "execution_count": 22,
   "id": "05e46457-ea86-4239-91fb-2eb2ac963751",
   "metadata": {},
   "outputs": [
    {
     "name": "stdout",
     "output_type": "stream",
     "text": [
      "[50, 20, 30, 40, 10]\n"
     ]
    }
   ],
   "source": [
    "values = [10, 20, 30, 40, 50]\n",
    "values[0],values[-1] = values[-1], values[0]\n",
    "print(values)"
   ]
  },
  {
   "cell_type": "markdown",
   "id": "15639cdd-a81a-415a-8fb5-073f327aa1e1",
   "metadata": {},
   "source": [
    "#### Task: Generate a list of squares for numbers from 1 to 10. values = []\n"
   ]
  },
  {
   "cell_type": "code",
   "execution_count": 31,
   "id": "391d319e-392d-4d92-b8c4-be2d78e17b5a",
   "metadata": {},
   "outputs": [
    {
     "name": "stdout",
     "output_type": "stream",
     "text": [
      "[1, 4, 9, 16, 25, 36, 49, 64, 81, 100]\n"
     ]
    }
   ],
   "source": [
    "values = []\n",
    "\n",
    "values = [value**2 for value in range(1,11)]\n",
    "\n",
    "print(values)\n"
   ]
  },
  {
   "cell_type": "markdown",
   "id": "ee93f879-b0e7-41cc-88cb-7c86abb190f5",
   "metadata": {},
   "source": [
    "#### Task: Reverse my_tuple without converting it to a list. my_tuple = (1, 2, 3, 4, 5)  \n"
   ]
  },
  {
   "cell_type": "code",
   "execution_count": 35,
   "id": "072058d1-4b89-4b37-8dd1-30d41e4a2eb9",
   "metadata": {},
   "outputs": [
    {
     "name": "stdout",
     "output_type": "stream",
     "text": [
      "(5, 4, 3, 2, 1)\n"
     ]
    }
   ],
   "source": [
    "my_tuple = (1, 2, 3, 4, 5)\n",
    "reverse = my_tuple[::-1]\n",
    "print(reverse)"
   ]
  },
  {
   "cell_type": "markdown",
   "id": "8c77d72c-9d85-4bbc-a5e4-bdcf1502a995",
   "metadata": {},
   "source": [
    "#### Task: Find the maximum and minimum values in data.  data = [23, 45, 67, 12, 89, 34]  \n",
    "\n"
   ]
  },
  {
   "cell_type": "code",
   "execution_count": 38,
   "id": "7324b442-783f-4add-9d69-cb04a1cc0fb5",
   "metadata": {},
   "outputs": [
    {
     "name": "stdout",
     "output_type": "stream",
     "text": [
      "89\n",
      "12\n"
     ]
    }
   ],
   "source": [
    "data = [23, 45, 67, 12, 89, 34]\n",
    "max_value = data[0]\n",
    "min_value = data[0]\n",
    "\n",
    "for num in data:\n",
    "    if num > max_value:\n",
    "        max_value = num\n",
    "    if num < min_value:\n",
    "        min_value = num\n",
    "print(max_value)\n",
    "print(min_value)"
   ]
  },
  {
   "cell_type": "markdown",
   "id": "07712fb8-902a-4739-81b2-a9b70d6fbab6",
   "metadata": {},
   "source": [
    "#### Task: Extract every second element from nums.  nums = [10, 20, 30, 40, 50, 60, 70]  \n",
    "\n"
   ]
  },
  {
   "cell_type": "code",
   "execution_count": 40,
   "id": "1da5319f-87cf-4ea1-9138-2bdc6cdb0577",
   "metadata": {},
   "outputs": [
    {
     "name": "stdout",
     "output_type": "stream",
     "text": [
      "[20, 40, 60]\n"
     ]
    }
   ],
   "source": [
    "nums = [10, 20, 30, 40, 50, 60, 70]\n",
    "second_elements = nums[1::2]\n",
    "print(second_elements)\n"
   ]
  },
  {
   "cell_type": "markdown",
   "id": "ae9789f7-e7c9-41ba-adc8-e11bc341e2f3",
   "metadata": {},
   "source": [
    "### Task: Convert nested_list into a single flat list. nested_list = [[1, 2, 3], [4, 5, 6], [7, 8, 9]]  \n"
   ]
  },
  {
   "cell_type": "code",
   "execution_count": 46,
   "id": "48ebd9ef-3bb7-4a7d-9687-949cd88b066c",
   "metadata": {},
   "outputs": [
    {
     "name": "stdout",
     "output_type": "stream",
     "text": [
      "[1, 2, 3, 4, 5, 6, 7, 8, 9]\n"
     ]
    }
   ],
   "source": [
    "nested_list = [[1, 2, 3], [4, 5, 6], [7, 8, 9]]\n",
    "flat_lists = []\n",
    "for list in nested_list:\n",
    "    for flat_list in list:\n",
    "        flat_lists.append(flat_list)\n",
    "print(flat_lists)\n",
    "\n"
   ]
  },
  {
   "cell_type": "markdown",
   "id": "4728ad43-7c83-42b1-a56c-d3f32dfc02e7",
   "metadata": {},
   "source": [
    "#### Task: Find common elements between list_a and list_b.  list_a = [1, 2, 3, 4, 5, 6] list_b = [4, 5, 6, 7, 8, 9]  \n",
    " \n"
   ]
  },
  {
   "cell_type": "code",
   "execution_count": 48,
   "id": "d0ca5b0f-aaff-4cfb-8100-3ad63aed34a1",
   "metadata": {},
   "outputs": [
    {
     "name": "stdout",
     "output_type": "stream",
     "text": [
      "[4, 5, 6]\n"
     ]
    }
   ],
   "source": [
    "list_a = [1, 2, 3, 4, 5, 6]\n",
    "list_b = [4, 5, 6, 7, 8, 9] \n",
    "\n",
    "common = []\n",
    "for item in list_a:\n",
    "    if item in list_b:\n",
    "        common.append(item)\n",
    "print(common)"
   ]
  },
  {
   "cell_type": "markdown",
   "id": "fd71a9bb-d8dd-47be-a5cf-7a603666b316",
   "metadata": {},
   "source": [
    "#### Task: Sort scores in descending order. scores = [78, 55, 92, 30, 88, 62]"
   ]
  },
  {
   "cell_type": "code",
   "execution_count": 50,
   "id": "f6a1a8e7-22ed-47a3-81b5-b76a69b35aff",
   "metadata": {},
   "outputs": [
    {
     "name": "stdout",
     "output_type": "stream",
     "text": [
      "[92, 88, 78, 62, 55, 30]\n"
     ]
    }
   ],
   "source": [
    "scores = [78, 55, 92, 30, 88, 62]\n",
    "scores.sort(reverse = True)\n",
    "print(scores)\n",
    "\n"
   ]
  },
  {
   "cell_type": "markdown",
   "id": "f470863e-fd58-4b7d-8731-37a9efafd6a9",
   "metadata": {},
   "source": [
    "#### Task: Repeat my_tuple three times and store the result. my_tuple = (1, 2, 3)"
   ]
  },
  {
   "cell_type": "code",
   "execution_count": 52,
   "id": "2b3a84d2-f359-435f-b18f-5da453272b69",
   "metadata": {},
   "outputs": [
    {
     "name": "stdout",
     "output_type": "stream",
     "text": [
      "(1, 2, 3, 1, 2, 3, 1, 2, 3)\n"
     ]
    }
   ],
   "source": [
    "my_tuple = (1, 2, 3)\n",
    "my_tuple = my_tuple*3\n",
    "print(my_tuple)"
   ]
  },
  {
   "cell_type": "markdown",
   "id": "e12b0e2e-da8c-439a-9bb1-7cf1c7d83c2f",
   "metadata": {},
   "source": [
    "#### Task: Remove duplicates while keeping the order. numbers = [1, 2, 2, 3, 4, 4, 5, 6, 6]  \n"
   ]
  },
  {
   "cell_type": "code",
   "execution_count": 56,
   "id": "8044ce6d-3347-4f67-bea7-fa5f6a814370",
   "metadata": {},
   "outputs": [
    {
     "name": "stdout",
     "output_type": "stream",
     "text": [
      "[1, 2, 3, 4, 5, 6]\n"
     ]
    }
   ],
   "source": [
    "numbers = [1, 2, 2, 3, 4, 4, 5, 6, 6]\n",
    "unique_numbers = []\n",
    "\n",
    "for num in numbers:\n",
    "    if num not in unique_numbers:\n",
    "        unique_numbers.append(num)\n",
    "print(unique_numbers)\n"
   ]
  },
  {
   "cell_type": "markdown",
   "id": "4daab45c-6c91-41e7-a19c-14cef929fa3a",
   "metadata": {},
   "source": [
    "#### Task: Insert \"Amazing\" at index 2.words = [\"Hello\", \"World\", \"Python\", \"Programming\"]  \n"
   ]
  },
  {
   "cell_type": "code",
   "execution_count": 57,
   "id": "17617ca4-8c20-486c-b18a-895e63f66b26",
   "metadata": {},
   "outputs": [
    {
     "name": "stdout",
     "output_type": "stream",
     "text": [
      "['Hello', 'World', 'Amazing', 'Python', 'Programming']\n"
     ]
    }
   ],
   "source": [
    "words = [\"Hello\", \"World\", \"Python\", \"Programming\"]\n",
    "words.insert(2,\"Amazing\")\n",
    "print(words)"
   ]
  },
  {
   "cell_type": "markdown",
   "id": "df97b4cb-51a1-4b68-8557-8846822367b1",
   "metadata": {},
   "source": [
    "### Task: Convert pairs into a dictionary. pairs = [(\"a\", 1), (\"b\", 2), (\"c\", 3)]  \n"
   ]
  },
  {
   "cell_type": "code",
   "execution_count": 58,
   "id": "84eab61d-d1d9-4bca-9848-a9c7fd0c32d7",
   "metadata": {},
   "outputs": [
    {
     "name": "stdout",
     "output_type": "stream",
     "text": [
      "{'a': 1, 'b': 2, 'c': 3}\n"
     ]
    }
   ],
   "source": [
    "pairs = [(\"a\", 1), (\"b\", 2), (\"c\", 3)]  \n",
    "mydict = dict(pairs)\n",
    "print(mydict)"
   ]
  },
  {
   "cell_type": "markdown",
   "id": "9bdba97b-aa9c-40b0-9933-a56411773c3d",
   "metadata": {},
   "source": [
    "## Session #2"
   ]
  },
  {
   "cell_type": "markdown",
   "id": "db17beaf-d6fe-485f-ae1d-b52832823d67",
   "metadata": {},
   "source": [
    "#### Task: Use a for loop to calculate the sum of all elements in nums. nums = [1, 2, 3, 4, 5] "
   ]
  },
  {
   "cell_type": "code",
   "execution_count": 60,
   "id": "8715df66-4306-42ce-871f-6f2961ef09c9",
   "metadata": {},
   "outputs": [
    {
     "name": "stdout",
     "output_type": "stream",
     "text": [
      "15\n"
     ]
    }
   ],
   "source": [
    "nums = [1, 2, 3, 4, 5]\n",
    "Total = 0 \n",
    "for num in nums:\n",
    "    Total += num\n",
    "print(Total)\n"
   ]
  },
  {
   "cell_type": "markdown",
   "id": "1e667f4d-c199-44a7-bc49-2c7ba3dccea9",
   "metadata": {},
   "source": [
    "#### Task: Use a while loop to print numbers from count down to 1. count = 5"
   ]
  },
  {
   "cell_type": "code",
   "execution_count": 63,
   "id": "47cc5818-c2ce-4c0b-857b-223d1bb3e96a",
   "metadata": {},
   "outputs": [
    {
     "name": "stdout",
     "output_type": "stream",
     "text": [
      "4\n",
      "3\n",
      "2\n",
      "1\n",
      "0\n"
     ]
    }
   ],
   "source": [
    "count = 5\n",
    "\n",
    "while count >= 1:\n",
    "    count -= 1\n",
    "    print(count)"
   ]
  },
  {
   "cell_type": "markdown",
   "id": "2a56fcd0-928e-4f1b-a25d-971ef9b2b299",
   "metadata": {},
   "source": [
    "### Task: Use a for loop to print each fruit in uppercase. fruits = [\"Apple\", \"Banana\", \"Cherry\", \"Mango\"]  \n"
   ]
  },
  {
   "cell_type": "code",
   "execution_count": 64,
   "id": "8d92231c-7b21-41d2-a1e5-901a44f25563",
   "metadata": {},
   "outputs": [
    {
     "name": "stdout",
     "output_type": "stream",
     "text": [
      "APPLE\n",
      "BANANA\n",
      "CHERRY\n",
      "MANGO\n"
     ]
    }
   ],
   "source": [
    "fruits = [\"Apple\", \"Banana\", \"Cherry\", \"Mango\"]\n",
    "\n",
    "for fruit in fruits:\n",
    "    print(fruit.upper())"
   ]
  },
  {
   "cell_type": "markdown",
   "id": "9ef050fd-dbd4-407e-af22-903f4513e43c",
   "metadata": {},
   "source": [
    "#### Task: Use a while loop to print squares of numbers from 1 to 10. num = 1 "
   ]
  },
  {
   "cell_type": "code",
   "execution_count": 66,
   "id": "b985dfd8-b2aa-4b61-b335-349a01770361",
   "metadata": {},
   "outputs": [
    {
     "name": "stdout",
     "output_type": "stream",
     "text": [
      "1\n",
      "4\n",
      "9\n",
      "16\n",
      "25\n",
      "36\n",
      "49\n",
      "64\n",
      "81\n",
      "100\n"
     ]
    }
   ],
   "source": [
    "num = 1\n",
    "\n",
    "while num <= 10:\n",
    "    print(num ** 2)\n",
    "    num += 1"
   ]
  },
  {
   "cell_type": "markdown",
   "id": "0fc4211e-6e4a-4d00-887d-0be4c27f756a",
   "metadata": {},
   "source": [
    "#### Task: Use a for loop to count how many times 'o' appears in sentence. sentence = \"Python is fun\" \n"
   ]
  },
  {
   "cell_type": "code",
   "execution_count": 72,
   "id": "cce6a8ad-f39c-41db-9b99-19cae1b434b1",
   "metadata": {},
   "outputs": [
    {
     "name": "stdout",
     "output_type": "stream",
     "text": [
      "2\n"
     ]
    }
   ],
   "source": [
    "sentence = \"Python is fun\"\n",
    "count = 0\n",
    "for char in sentence:\n",
    "    if char in \"o\":\n",
    "        count += 1        \n",
    "print(count)"
   ]
  },
  {
   "cell_type": "markdown",
   "id": "83f3f00e-07b9-4710-a3f1-38c75e674a01",
   "metadata": {},
   "source": [
    "### Task: Use a while loop to print even numbers from 10 to 2 in reverse order. num = 10  \n"
   ]
  },
  {
   "cell_type": "code",
   "execution_count": 2,
   "id": "9c95396e-b8be-48fc-855b-f688c077cd46",
   "metadata": {},
   "outputs": [
    {
     "name": "stdout",
     "output_type": "stream",
     "text": [
      "10\n",
      "8\n",
      "6\n",
      "4\n",
      "2\n"
     ]
    }
   ],
   "source": [
    "number = 10\n",
    "\n",
    "while number >= 2:\n",
    "    if number % 2 == 0:\n",
    "        print(number)\n",
    "    number -= 1"
   ]
  },
  {
   "cell_type": "markdown",
   "id": "b1cd9382-ce96-4190-9782-89d42d0c19c8",
   "metadata": {},
   "source": [
    "#### matrix = [[1, 2], [3, 4], [5, 6]] Task: Use nested for loops to print all elements in matrix.  \n"
   ]
  },
  {
   "cell_type": "code",
   "execution_count": 6,
   "id": "fa5317c9-85c9-44b2-9ae1-073929e31020",
   "metadata": {},
   "outputs": [
    {
     "name": "stdout",
     "output_type": "stream",
     "text": [
      "1 2 \n",
      "3 4 \n",
      "5 6 \n"
     ]
    }
   ],
   "source": [
    "matrix = [[1, 2], [3, 4], [5, 6]]\n",
    "for elements in matrix:\n",
    "    for element in elements:\n",
    "        print(element, end=\" \")\n",
    "    print()"
   ]
  },
  {
   "cell_type": "markdown",
   "id": "715f5d76-b826-40e3-9989-a30be14afb9b",
   "metadata": {},
   "source": [
    "#### num = 7  Task: Use a while loop to find the factorial of num.  \n"
   ]
  },
  {
   "cell_type": "code",
   "execution_count": 7,
   "id": "a1d83131-1f0f-435c-baaa-2b5de3efbd61",
   "metadata": {},
   "outputs": [
    {
     "name": "stdout",
     "output_type": "stream",
     "text": [
      "5040\n"
     ]
    }
   ],
   "source": [
    "num = 7\n",
    "factorial = 1\n",
    "while num > 0:\n",
    "    factorial *= num\n",
    "    num -= 1\n",
    "print(factorial)"
   ]
  },
  {
   "cell_type": "markdown",
   "id": "fe543210-8d73-4903-b823-2714f23dd302",
   "metadata": {},
   "source": [
    "#### Task: Use a for loop to print only the numbers divisible by 3.  numbers = [3, 9, 12, 18, 21, 25]  \n"
   ]
  },
  {
   "cell_type": "code",
   "execution_count": 10,
   "id": "19e04eca-f235-4924-a162-af17871846aa",
   "metadata": {},
   "outputs": [
    {
     "name": "stdout",
     "output_type": "stream",
     "text": [
      "3\n",
      "9\n",
      "12\n",
      "18\n",
      "21\n"
     ]
    }
   ],
   "source": [
    "numbers = [3, 9, 12, 18, 21, 25]\n",
    "\n",
    "for n in numbers:\n",
    "    if n % 3 == 0:\n",
    "        print(n)"
   ]
  },
  {
   "cell_type": "markdown",
   "id": "154ea26e-f73c-43dc-b056-b74fb822ce2a",
   "metadata": {},
   "source": [
    "## Session #3"
   ]
  },
  {
   "cell_type": "markdown",
   "id": "38dc6473-01c9-40f7-9b13-a2533e8b335f",
   "metadata": {},
   "source": [
    "#### Count Word Frequency in a Sentence \n",
    "#### Task: Given a sentence, count the occurrences of each word using a dictionary.  \n",
    "Example:  \n",
    "sentence = \"apple banana apple orange banana apple\"  \n",
    "Output: {'apple': 3, 'banana': 2, 'orange': 1} "
   ]
  },
  {
   "cell_type": "code",
   "execution_count": 11,
   "id": "aec59e4e-f94d-4baf-b6e9-bd3edb85bc59",
   "metadata": {},
   "outputs": [
    {
     "name": "stdout",
     "output_type": "stream",
     "text": [
      "{'apple': 3, 'banana': 2, 'orange': 1}\n"
     ]
    }
   ],
   "source": [
    "sentence = \"apple banana apple orange banana apple\"\n",
    "words = sentence.split()\n",
    "word_freq = {}\n",
    "for word in words:\n",
    "    if word in word_freq:\n",
    "        word_freq[word] += 1\n",
    "    else: \n",
    "        word_freq[word] = 1\n",
    "print(word_freq)"
   ]
  },
  {
   "cell_type": "markdown",
   "id": "dd2f31e7-d58b-4971-ac08-b589af927eac",
   "metadata": {},
   "source": [
    "#### Find Unique Elements in Two Lists Using Sets  \n",
    "#### Task: Given two lists, find the elements that are unique to each list using sets.  \n",
    "Example:  \n",
    "list1 = {1, 2, 3, 4}  \n",
    "list2 = {3, 4, 5, 6}  \n",
    "Output: Unique in list1: {1, 2}, Unique in list2: {5, 6}  "
   ]
  },
  {
   "cell_type": "code",
   "execution_count": 13,
   "id": "1144454c-dfa8-4c57-9ce2-574e89676cd0",
   "metadata": {},
   "outputs": [
    {
     "name": "stdout",
     "output_type": "stream",
     "text": [
      "{1, 2}\n",
      "{5, 6}\n"
     ]
    }
   ],
   "source": [
    "list1 = {1, 2, 3, 4}\n",
    "list2 = {3, 4, 5, 6}\n",
    "\n",
    "unique_list1 = list1 - list2\n",
    "unique_list2 = list2 - list1\n",
    "\n",
    "print(unique_list1)\n",
    "print(unique_list2)"
   ]
  },
  {
   "cell_type": "markdown",
   "id": "c0656eb6-5d96-4172-b6dd-43e0e24ea238",
   "metadata": {},
   "source": [
    "#### Merge Two Dictionaries  \n",
    "#### Task: Merge two dictionaries and sum the values of common keys.  \n",
    "Example:  \n",
    "dict1 = {'a': 10, 'b': 20}  \n",
    "dict2 = {'b': 30, 'c': 40}  \n",
    "Output: {'a': 10, 'b': 50, 'c': 40}  "
   ]
  },
  {
   "cell_type": "code",
   "execution_count": 26,
   "id": "dc57efd8-32ad-4550-9985-0a8452f97b2a",
   "metadata": {},
   "outputs": [
    {
     "name": "stdout",
     "output_type": "stream",
     "text": [
      "{'a': 10, 'b': 50, 'c': 40}\n"
     ]
    }
   ],
   "source": [
    "dict1 = {'a': 10, 'b': 20}\n",
    "dict2 = {'b': 30, 'c': 40}\n",
    "\n",
    "merged_dict = dict1.copy()\n",
    "for key,value in dict2.items():\n",
    "    if key in merged_dict:\n",
    "        merged_dict[key] += value\n",
    "    else:\n",
    "        merged_dict[key] = value\n",
    "\n",
    "print(merged_dict)"
   ]
  },
  {
   "cell_type": "markdown",
   "id": "dfb755a3-7e05-42ed-9d9a-c3903d158538",
   "metadata": {},
   "source": [
    "#### Find the Intersection of Two Sets  \n",
    "#### Task: Given two sets, find the common elements.  \n",
    "Example:  \n",
    "set1 = {1, 2, 3, 4}  \n",
    "set2 = {3, 4, 5, 6}  \n",
    "Output: {3, 4}  "
   ]
  },
  {
   "cell_type": "code",
   "execution_count": 27,
   "id": "aa8cf015-2ab3-488f-b4b1-97aa7d8eee37",
   "metadata": {},
   "outputs": [
    {
     "name": "stdout",
     "output_type": "stream",
     "text": [
      "{3, 4}\n"
     ]
    }
   ],
   "source": [
    "set1 = {1, 2, 3, 4}  \n",
    "set2 = {3, 4, 5, 6}  \n",
    "\n",
    "common_elements = set1 & set2\n",
    "print(common_elements)"
   ]
  },
  {
   "cell_type": "markdown",
   "id": "22ded7c7-c844-4dd4-b553-a7375f256fbf",
   "metadata": {},
   "source": [
    "#### Find the Most Frequent Element in a List  \n",
    "#### Task: Given a list, find the element that appears the most times.  \n",
    "Example:  \n",
    "numbers = [1, 3, 2, 3, 4, 3, 5, 2, 1, 3]  \n",
    "Output: Most frequent: 3 (appears 4 times)  "
   ]
  },
  {
   "cell_type": "code",
   "execution_count": 32,
   "id": "a170f2ce-e358-4759-b355-8feb1bbbb593",
   "metadata": {},
   "outputs": [
    {
     "name": "stdout",
     "output_type": "stream",
     "text": [
      "Most frequent: 3 (appears 4)\n"
     ]
    }
   ],
   "source": [
    "numbers = [1, 3, 2, 3, 4, 3, 5, 2, 1, 3]  \n",
    "\n",
    "freq = {}\n",
    "for num in numbers:\n",
    "    if num in freq:\n",
    "        freq[num] += 1\n",
    "    else:\n",
    "        freq[num] = 1\n",
    "\n",
    "most_freq = None\n",
    "highest_count = 0\n",
    "for key in freq:\n",
    "    if freq[key] > highest_count:\n",
    "        highest_count = freq[key]\n",
    "        most_freq = key\n",
    "\n",
    "print(f\"Most frequent: {most_freq} (appears {highest_count})\")"
   ]
  },
  {
   "cell_type": "markdown",
   "id": "9ed49b94-f93b-4337-ae78-a8bc63c7fece",
   "metadata": {},
   "source": [
    "#### Remove Duplicates from a List Using Sets  \n",
    "#### Task: Remove duplicates from a list while maintaining order.  \n",
    "Example:  \n",
    "lst = [1, 2, 2, 3, 4, 4, 5, 6, 6, 6]  \n",
    "Output: [1, 2, 3, 4, 5, 6]  "
   ]
  },
  {
   "cell_type": "code",
   "execution_count": 33,
   "id": "8ded21f9-40d5-4d37-9240-a5256c3708c4",
   "metadata": {},
   "outputs": [
    {
     "name": "stdout",
     "output_type": "stream",
     "text": [
      "[1, 2, 3, 4, 5, 6]\n"
     ]
    }
   ],
   "source": [
    "lst = [1, 2, 2, 3, 4, 4, 5, 6, 6, 6]\n",
    "\n",
    "unique_list = []\n",
    "\n",
    "for item in lst:\n",
    "    if item not in unique_list:\n",
    "        unique_list.append(item)\n",
    "print(unique_list)"
   ]
  },
  {
   "cell_type": "markdown",
   "id": "c2585f6a-93f2-4c9f-b345-1c021bf4731d",
   "metadata": {},
   "source": [
    "#### Find Students Who Enrolled in Both Courses  \n",
    "#### Task: Given two sets of students, find those who are enrolled in both courses.  \n",
    "Example:  \n",
    "course_A = {\"Alice\", \"Bob\", \"Charlie\"}  \n",
    "course_B = {\"Bob\", \"David\", \"Charlie\"}  \n",
    "Output: {\"Bob\", \"Charlie\"}  "
   ]
  },
  {
   "cell_type": "code",
   "execution_count": 35,
   "id": "a920ee97-bafc-49d6-8db7-1441cc796d12",
   "metadata": {},
   "outputs": [
    {
     "name": "stdout",
     "output_type": "stream",
     "text": [
      "{'Bob', 'Charlie'}\n"
     ]
    }
   ],
   "source": [
    "course_A = {\"Alice\", \"Bob\", \"Charlie\"}  \n",
    "course_B = {\"Bob\", \"David\", \"Charlie\"}  \n",
    "\n",
    "both_course = course_A & course_B\n",
    "\n",
    "print(both_course)\n"
   ]
  },
  {
   "cell_type": "markdown",
   "id": "7520177f-2a98-44c6-b8ef-7750689423b8",
   "metadata": {},
   "source": [
    "#### Find the Union of Multiple Sets  \n",
    "#### Task: Find the union of three sets.  \n",
    "Example:  \n",
    "set1 = {1, 2, 3}  \n",
    "set2 = {3, 4, 5}  \n",
    "set3 = {5, 6, 7}  \n",
    "Output: {1, 2, 3, 4, 5, 6, 7}"
   ]
  },
  {
   "cell_type": "code",
   "execution_count": 39,
   "id": "b6b10f04-1c00-4a26-ad70-0102d70e458f",
   "metadata": {},
   "outputs": [
    {
     "name": "stdout",
     "output_type": "stream",
     "text": [
      "{1, 2, 3, 4, 5, 6, 7}\n"
     ]
    }
   ],
   "source": [
    "set1 = {1, 2, 3}\n",
    "set2 = {3, 4, 5}\n",
    "set3 = {5, 6, 7}\n",
    "\n",
    "union = set1 | set2 | set3\n",
    "\n",
    "print(union)"
   ]
  },
  {
   "cell_type": "markdown",
   "id": "d6b9c5de-e9da-43fa-8deb-f5e2c59a1a50",
   "metadata": {},
   "source": [
    "#### Reverse a Dictionary (Keys Become Values, Values Become Keys)  \n",
    "#### Task: Swap keys and values in a dictionary.  \n",
    "Example:  \n",
    "original_dict = {'a': 1, 'b': 2, 'c': 3}  \n",
    "Output: {1: 'a', 2: 'b', 3: 'c'} "
   ]
  },
  {
   "cell_type": "code",
   "execution_count": 49,
   "id": "adbe92c2-8159-47fc-8945-cf3dcd11c81e",
   "metadata": {},
   "outputs": [
    {
     "name": "stdout",
     "output_type": "stream",
     "text": [
      "{1: 'a', 2: 'b', 3: 'c'}\n"
     ]
    }
   ],
   "source": [
    "original_dict = {'a': 1, 'b': 2, 'c': 3}  \n",
    "\n",
    "reversed_dic = {}\n",
    "\n",
    "for swap_dic in original_dict:\n",
    "    value = original_dict[swap_dic]\n",
    "    reversed_dic[value] = swap_dic\n",
    "\n",
    "print(reversed_dic)\n",
    "    "
   ]
  },
  {
   "cell_type": "markdown",
   "id": "3f5218b4-2279-4f8c-b107-96ff634762b1",
   "metadata": {},
   "source": [
    "#### Check If Two Words Are Anagrams Using Dictionaries  \n",
    "#### Task: Given two words, check if they are anagrams (i.e., contain the same letters with the same frequency).  \n",
    "Example:  \n",
    "word1 = \"listen\"  \n",
    "word2 = \"silent\"  \n",
    "Output: True (They are anagrams)  \n"
   ]
  },
  {
   "cell_type": "code",
   "execution_count": 64,
   "id": "102450a6-4c40-4ecd-b8c4-0b405e77e599",
   "metadata": {},
   "outputs": [
    {
     "name": "stdout",
     "output_type": "stream",
     "text": [
      "True\n"
     ]
    }
   ],
   "source": [
    "word1 = \"listen\"\n",
    "word2 = \"silent\"\n",
    "\n",
    "# First, check if the lengths are the same\n",
    "if len(word1) != len(word2):\n",
    "    print(False)\n",
    "else:\n",
    "    freq1 = {}\n",
    "    freq2 = {}\n",
    "\n",
    "    for char in word1:\n",
    "        if char in freq1:\n",
    "            freq1[char] += 1\n",
    "        else:\n",
    "            freq1[char] = 1\n",
    "\n",
    "    for char in word2:\n",
    "        if char in freq2:\n",
    "            freq2[char] += 1\n",
    "        else:\n",
    "            freq2[char] = 1\n",
    "    if freq1 == freq2:\n",
    "        print(True)\n",
    "    else:\n",
    "        print(False)"
   ]
  },
  {
   "cell_type": "code",
   "execution_count": null,
   "id": "994965a4-ef5c-4ef4-bce6-9295f0eb494f",
   "metadata": {},
   "outputs": [],
   "source": []
  }
 ],
 "metadata": {
  "kernelspec": {
   "display_name": "Python 3 (ipykernel)",
   "language": "python",
   "name": "python3"
  },
  "language_info": {
   "codemirror_mode": {
    "name": "ipython",
    "version": 3
   },
   "file_extension": ".py",
   "mimetype": "text/x-python",
   "name": "python",
   "nbconvert_exporter": "python",
   "pygments_lexer": "ipython3",
   "version": "3.12.4"
  }
 },
 "nbformat": 4,
 "nbformat_minor": 5
}
