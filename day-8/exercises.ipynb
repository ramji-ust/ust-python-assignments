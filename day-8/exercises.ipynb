{
 "cells": [
  {
   "cell_type": "markdown",
   "metadata": {},
   "source": [
    "# Regular Expression Exercises in Python\n"
   ]
  },
  {
   "cell_type": "markdown",
   "metadata": {},
   "source": [
    "## Session 1"
   ]
  },
  {
   "cell_type": "markdown",
   "metadata": {},
   "source": [
    "1. ***Extract Floating Point Numbers***  \n",
    "    ***Text: \"This statement contains +1.234 floating -67.87 point 1.234 number\"***  \n",
    "    ***Task: Write a regex to extract the floating-point number from the text including sign***  "
   ]
  },
  {
   "cell_type": "code",
   "execution_count": 2,
   "metadata": {},
   "outputs": [
    {
     "name": "stdout",
     "output_type": "stream",
     "text": [
      "['+1.234', '-67.87', '1.234']\n"
     ]
    }
   ],
   "source": [
    "import re\n",
    "\n",
    "text = \"This statement contains +1.234 floating -67.87 point 1.234 number\"\n",
    "\n",
    "matches = re.findall(r'[+-]?\\d*\\.\\d+', text)\n",
    "print(matches)"
   ]
  },
  {
   "cell_type": "markdown",
   "metadata": {},
   "source": [
    "2. ***Find Email Addresses***  \n",
    "***Text: \"Contact us at support@example.com for more details\"***  \n",
    "***Task: Write a regex to extract the email address from the text.***  "
   ]
  },
  {
   "cell_type": "code",
   "execution_count": 3,
   "metadata": {},
   "outputs": [
    {
     "name": "stdout",
     "output_type": "stream",
     "text": [
      "['support@example.com']\n"
     ]
    }
   ],
   "source": [
    "text = \"Contact us at support@example.com for more details\"\n",
    "\n",
    "matches = re.findall(r'[a-zA-Z0-9_.+-]+@[a-zA-Z0-9-]+\\.[a-zA-Z0-9-.]+', text)\n",
    "print(matches)"
   ]
  },
  {
   "cell_type": "markdown",
   "metadata": {},
   "source": [
    "3. ***Extract Dates***  \n",
    "***Text: \"Today's date is 2025-03-27\"***  \n",
    "***Task: Write a regex to extract the date in YYYY-MM-DD format.***  "
   ]
  },
  {
   "cell_type": "code",
   "execution_count": 4,
   "metadata": {},
   "outputs": [
    {
     "name": "stdout",
     "output_type": "stream",
     "text": [
      "['2025-03-27']\n"
     ]
    }
   ],
   "source": [
    "text = \"Today's date is 2025-03-27\"\n",
    "\n",
    "matches = re.findall(r'\\d{4}-\\d{2}-\\d{2}', text)\n",
    "print(matches)"
   ]
  },
  {
   "cell_type": "markdown",
   "metadata": {},
   "source": [
    "4. ***Find Words with Double Letters***  \n",
    "***Text: \"I saw a little kitten running across the street\"***  \n",
    "***Task: Write a regex to extract words containing consecutive duplicate letters (e.g., little, kitten).***  \n",
    "***Answer: r\"\\w*(\\w)\\1\\w*\"***  "
   ]
  },
  {
   "cell_type": "code",
   "execution_count": 5,
   "metadata": {},
   "outputs": [
    {
     "name": "stdout",
     "output_type": "stream",
     "text": [
      "['t', 't', 'n', 's', 'e']\n"
     ]
    }
   ],
   "source": [
    "text = \"I saw a little kitten running across the street\"\n",
    "\n",
    "matches = re.findall(r'\\b\\w*(\\w)\\1\\w*\\b', text)\n",
    "print(matches)"
   ]
  },
  {
   "cell_type": "markdown",
   "metadata": {},
   "source": [
    "5. ***Extract Phone Numbers***  \n",
    "***Text: \"My phone numbers are (123) 456-7890 and 987-654-3210\"***  \n",
    "***Task: Write a regex to extract both phone numbers.***  "
   ]
  },
  {
   "cell_type": "code",
   "execution_count": 6,
   "metadata": {},
   "outputs": [
    {
     "name": "stdout",
     "output_type": "stream",
     "text": [
      "['(123) 456-7890', '987-654-3210']\n"
     ]
    }
   ],
   "source": [
    "text = \"My phone numbers are (123) 456-7890 and 987-654-3210\"\n",
    "\n",
    "matches = re.findall(r'\\(?\\d{3}\\)?[-\\s]?\\d{3}-\\d{4}', text)\n",
    "print(matches)"
   ]
  },
  {
   "cell_type": "markdown",
   "metadata": {},
   "source": [
    "6. ***Find Hashtags in a Tweet***  \n",
    "***Text: \"Loving the #Python and #AI vibes today!\"***  \n",
    "***Task: Write a regex to extract all hashtags from the text.***  "
   ]
  },
  {
   "cell_type": "code",
   "execution_count": 7,
   "metadata": {},
   "outputs": [
    {
     "name": "stdout",
     "output_type": "stream",
     "text": [
      "['#Python', '#AI']\n"
     ]
    }
   ],
   "source": [
    "text = \"Loving the #Python and #AI vibes today!\"\n",
    "\n",
    "matches = re.findall(r'#\\w+', text)\n",
    "print(matches)"
   ]
  },
  {
   "cell_type": "markdown",
   "metadata": {},
   "source": [
    "7. ***Extract Digits from a String***  \n",
    "***Text: \"Order number: 98765, Confirmation code: 54321\"***  \n",
    "***Task: Write a regex to extract all numerical values.***  "
   ]
  },
  {
   "cell_type": "code",
   "execution_count": 8,
   "metadata": {},
   "outputs": [
    {
     "name": "stdout",
     "output_type": "stream",
     "text": [
      "['98765', '54321']\n"
     ]
    }
   ],
   "source": [
    "text = \"Order number: 98765, Confirmation code: 54321\"\n",
    "\n",
    "matches = re.findall(r'\\d+', text)\n",
    "print(matches)"
   ]
  },
  {
   "cell_type": "markdown",
   "metadata": {},
   "source": [
    "8. ***Find Words Starting with a Capital Letter***\n",
    "***Text: \"Alice and Bob went to New York for a Conference\"***\n",
    "***Task: Write a regex to extract words that start with a capital letter.***"
   ]
  },
  {
   "cell_type": "code",
   "execution_count": 9,
   "metadata": {},
   "outputs": [
    {
     "name": "stdout",
     "output_type": "stream",
     "text": [
      "['Alice', 'Bob', 'New', 'York', 'Conference']\n"
     ]
    }
   ],
   "source": [
    "text = \"Alice and Bob went to New York for a Conference\"\n",
    "\n",
    "matches = re.findall(r'\\b[A-Z][a-z]*\\b', text)\n",
    "print(matches)"
   ]
  },
  {
   "cell_type": "markdown",
   "metadata": {},
   "source": [
    "9. ***Find Words Starting with a Capital Letter***  \n",
    "***Text: \"Alice and Bob went to New York for a Conference\"***  \n",
    "***Task: Write a regex to extract words that start with a capital letter.***  "
   ]
  },
  {
   "cell_type": "code",
   "execution_count": 10,
   "metadata": {},
   "outputs": [
    {
     "name": "stdout",
     "output_type": "stream",
     "text": [
      "['Alice', 'Bob', 'New', 'York', 'Conference']\n"
     ]
    }
   ],
   "source": [
    "text = \"Alice and Bob went to New York for a Conference\"\n",
    "\n",
    "matches = re.findall(r'\\b[A-Z][a-z]*\\b', text)\n",
    "print(matches)"
   ]
  },
  {
   "cell_type": "markdown",
   "metadata": {},
   "source": [
    "10. ***Extract Domain from URLs***  \n",
    "***Text: \"Visit https://www.example.com or http://test.org for info\"***  \n",
    "***Task: Write a regex to extract domain names from the URLs.***  "
   ]
  },
  {
   "cell_type": "code",
   "execution_count": 11,
   "metadata": {},
   "outputs": [
    {
     "name": "stdout",
     "output_type": "stream",
     "text": [
      "['example.com', 'test.org']\n"
     ]
    }
   ],
   "source": [
    "text = \"Visit https://www.example.com or http://test.org for info\"\n",
    "\n",
    "matches = re.findall(r'https?://(?:www\\.)?([a-zA-Z0-9-]+\\.[a-zA-Z]{2,})', text)\n",
    "print(matches)"
   ]
  },
  {
   "cell_type": "markdown",
   "metadata": {},
   "source": [
    "11. ***Find Repeated Words***  \n",
    "***Text: \"This is is a test test to find repeated repeated words\"***  \n",
    "***Task: Write a regex to find repeated words appearing consecutively.***  "
   ]
  },
  {
   "cell_type": "code",
   "execution_count": 12,
   "metadata": {},
   "outputs": [
    {
     "name": "stdout",
     "output_type": "stream",
     "text": [
      "['is', 'test', 'repeated']\n"
     ]
    }
   ],
   "source": [
    "text = \"This is is a test test to find repeated repeated words\"\n",
    "\n",
    "matches = re.findall(r'\\b(\\w+)\\s+\\1\\b', text)\n",
    "print(matches)"
   ]
  },
  {
   "cell_type": "markdown",
   "metadata": {},
   "source": [
    "12. ***Find HTML Tags***  \n",
    "***Text: \"<div>Welcome</div> <p>This is a paragraph.</p>\"***  \n",
    "***Task: Write a regex to extract all HTML tags.***  "
   ]
  },
  {
   "cell_type": "code",
   "execution_count": 13,
   "metadata": {},
   "outputs": [
    {
     "name": "stdout",
     "output_type": "stream",
     "text": [
      "['<p>', '</p>']\n"
     ]
    }
   ],
   "source": [
    "text = \"\"\"\n",
    "Welcome\n",
    "This is a <p>paragraph</p>.\n",
    "\"\"\"\n",
    "\n",
    "matches = re.findall(r'<[^>]+>', text)\n",
    "print(matches)"
   ]
  },
  {
   "cell_type": "markdown",
   "metadata": {},
   "source": [
    "13. ***Validate IPv4 Addresses***  \n",
    "***Text: \"Valid IP: 192.168.1.1, Invalid IP: 999.999.999.999\"***  \n",
    "***Task: Write a regex to validate IPv4 addresses.***  "
   ]
  },
  {
   "cell_type": "code",
   "execution_count": 14,
   "metadata": {},
   "outputs": [
    {
     "name": "stdout",
     "output_type": "stream",
     "text": [
      "['192.168.1.1']\n"
     ]
    }
   ],
   "source": [
    "text = \"Valid IP: 192.168.1.1, Invalid IP: 999.999.999.999\"\n",
    "\n",
    "matches = re.findall(r'\\b(?:25[0-5]|2[0-4][0-9]|[01]?[0-9][0-9]?)\\.(?:25[0-5]|2[0-4][0-9]|[01]?[0-9][0-9]?)\\.(?:25[0-5]|2[0-4][0-9]|[01]?[0-9][0-9]?)\\.(?:25[0-5]|2[0-4][0-9]|[01]?[0-9][0-9]?)\\b', text)\n",
    "print(matches)\n"
   ]
  },
  {
   "cell_type": "markdown",
   "metadata": {},
   "source": [
    "14. ***Extract Words Ending with ‘ing’***  \n",
    "***Text: \"Running, swimming, and playing are fun activities\"***  \n",
    "***Task: Write a regex to extract words ending with ‘ing’.***  "
   ]
  },
  {
   "cell_type": "code",
   "execution_count": 15,
   "metadata": {},
   "outputs": [
    {
     "name": "stdout",
     "output_type": "stream",
     "text": [
      "['Running', 'swimming', 'playing']\n"
     ]
    }
   ],
   "source": [
    "text = \"Running, swimming, and playing are fun activities\"\n",
    "\n",
    "matches = re.findall(r'\\b\\w+ing\\b', text)\n",
    "print(matches)"
   ]
  },
  {
   "cell_type": "markdown",
   "metadata": {},
   "source": [
    "15. ***Find Sentences Ending with a Question Mark***  \n",
    "***Text: \"Do you know the answer? Let's find out. Are you sure?\"***  \n",
    "***Task: Write a regex to extract all sentences ending with ?.***  "
   ]
  },
  {
   "cell_type": "code",
   "execution_count": 16,
   "metadata": {},
   "outputs": [
    {
     "name": "stdout",
     "output_type": "stream",
     "text": [
      "[\"Do you know the answer? Let's find out. Are you sure?\"]\n"
     ]
    }
   ],
   "source": [
    "text = \"Do you know the answer? Let's find out. Are you sure?\"\n",
    "\n",
    "matches = re.findall(r'\\b.*\\?\\s*', text)\n",
    "print(matches)"
   ]
  },
  {
   "cell_type": "markdown",
   "metadata": {},
   "source": [
    "16. ***Extract Hex Color Codes***  \n",
    "***Text: \"Background color is #FF5733 and text color is #00FF00\"***  \n",
    "***Task: Write a regex to extract hex color codes.***  "
   ]
  },
  {
   "cell_type": "code",
   "execution_count": 17,
   "metadata": {},
   "outputs": [
    {
     "name": "stdout",
     "output_type": "stream",
     "text": [
      "['#FF5733', '#00FF00']\n"
     ]
    }
   ],
   "source": [
    "text = \"Background color is #FF5733 and text color is #00FF00\"\n",
    "\n",
    "matches = re.findall(r'#[0-9A-Fa-f]{6}\\b', text)\n",
    "print(matches)"
   ]
  },
  {
   "cell_type": "markdown",
   "metadata": {},
   "source": [
    "17. ***Extract Usernames from Twitter Handles***  \n",
    "***Text: \"Follow us @ChatGPT and @OpenAI\"***  \n",
    "***Task: Write a regex to extract usernames after @.***  "
   ]
  },
  {
   "cell_type": "code",
   "execution_count": 18,
   "metadata": {},
   "outputs": [
    {
     "name": "stdout",
     "output_type": "stream",
     "text": [
      "['ChatGPT', 'OpenAI']\n"
     ]
    }
   ],
   "source": [
    "text = \"Follow us @ChatGPT and @OpenAI\"\n",
    "\n",
    "matches = re.findall(r'@(\\w+)', text)\n",
    "print(matches)"
   ]
  },
  {
   "cell_type": "markdown",
   "metadata": {},
   "source": [
    "18. ***Validate Strong Passwords***  \n",
    "***Text: \"My password is Str0ngP@ss!\"***  \n",
    "***Task: Write a regex to check if the password has at least 8 characters, including uppercase, lowercase, numbers, and special characters.***  "
   ]
  },
  {
   "cell_type": "code",
   "execution_count": 19,
   "metadata": {},
   "outputs": [
    {
     "name": "stdout",
     "output_type": "stream",
     "text": [
      "Invalid Password!\n"
     ]
    }
   ],
   "source": [
    "text = \"My password is Str0ngP@ss!\"\n",
    "\n",
    "# Regex for strong password validation\n",
    "password_regex = r'^(?=.*[a-z])(?=.*[A-Z])(?=.*\\d)(?=.*[@$!%*?&])[A-Za-z\\d@$!%*?&]{8,}$'\n",
    "\n",
    "# Test the regex\n",
    "match = re.match(password_regex, text)\n",
    "\n",
    "if match:\n",
    "    print(\"Valid Strong Password!\")\n",
    "else:\n",
    "    print(\"Invalid Password!\")"
   ]
  },
  {
   "cell_type": "markdown",
   "metadata": {},
   "source": [
    "19. ***Extract File Names from a Path***  \n",
    "***Text: \"/home/user/documents/report.pdf and C:\\\\Users\\\\Admin\\\\file.txt\"***  \n",
    "***Task: Write a regex to extract file names from paths.***  "
   ]
  },
  {
   "cell_type": "code",
   "execution_count": null,
   "metadata": {},
   "outputs": [],
   "source": []
  },
  {
   "cell_type": "markdown",
   "metadata": {},
   "source": [
    "***Find Three Consecutive Vowels***  \n",
    "***Text: \"Beautiful ocean scenery is amazing\"***  \n",
    "***Task: Write a regex to find words containing three consecutive vowels.***  "
   ]
  },
  {
   "cell_type": "code",
   "execution_count": null,
   "metadata": {},
   "outputs": [],
   "source": []
  },
  {
   "cell_type": "markdown",
   "metadata": {},
   "source": []
  }
 ],
 "metadata": {
  "kernelspec": {
   "display_name": "Python 3 (ipykernel)",
   "language": "python",
   "name": "python3"
  },
  "language_info": {
   "codemirror_mode": {
    "name": "ipython",
    "version": 3
   },
   "file_extension": ".py",
   "mimetype": "text/x-python",
   "name": "python",
   "nbconvert_exporter": "python",
   "pygments_lexer": "ipython3",
   "version": "3.12.4"
  }
 },
 "nbformat": 4,
 "nbformat_minor": 4
}
