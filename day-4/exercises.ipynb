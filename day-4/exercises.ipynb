{
 "cells": [
  {
   "cell_type": "markdown",
   "id": "33f8890b-6715-424d-8173-74dc65ce768b",
   "metadata": {},
   "source": [
    "### ***Session 1:***"
   ]
  },
  {
   "cell_type": "markdown",
   "id": "abf29da3-e3f7-45e9-9bdf-fda238f402c2",
   "metadata": {},
   "source": [
    "1. ***Write a function to return the sum of individual digits?***  \n",
    "**Example:** ` sum_individual(123) -> 6 `"
   ]
  },
  {
   "cell_type": "code",
   "execution_count": 10,
   "id": "4c7a1702-11f8-4560-957c-dabc8649940a",
   "metadata": {},
   "outputs": [
    {
     "name": "stdout",
     "output_type": "stream",
     "text": [
      "6\n",
      "6\n"
     ]
    }
   ],
   "source": [
    "def sum_individual(number):\n",
    "    # print(type(number))\n",
    "    total = 0\n",
    "    for digit in str(number):\n",
    "        total += int(digit)\n",
    "    return total\n",
    "print(sum_individual(123))\n",
    "\n",
    "# method 2\n",
    "def sum_individual(number):\n",
    "    return sum(int(digit) for digit in str(number))\n",
    "print(sum_individual(123))\n"
   ]
  },
  {
   "cell_type": "markdown",
   "id": "58402445-ba79-41be-a346-347bdff27edd",
   "metadata": {},
   "source": [
    "2. ***Create a list of squares of numbers between 1 and 10 Use `map()`***"
   ]
  },
  {
   "cell_type": "code",
   "execution_count": 24,
   "id": "93f6ba14-30e4-4a1c-b5f5-980fc5efc75e",
   "metadata": {},
   "outputs": [
    {
     "name": "stdout",
     "output_type": "stream",
     "text": [
      "[1, 4, 9, 16, 25, 36, 49, 64, 81, 100]\n",
      "[1, 4, 9, 16, 25, 36, 49, 64, 81, 100]\n"
     ]
    }
   ],
   "source": [
    "# method 2\n",
    "number = range(1,11)\n",
    "squres = list(map(lambda x: x**2, number))\n",
    "print(squres)\n",
    "\n",
    "# method 2\n",
    "def square(x):\n",
    "    return x**2\n",
    "square = list(map(square, number))\n",
    "print(square)"
   ]
  },
  {
   "cell_type": "markdown",
   "id": "a901b262-43aa-4068-b1a1-9313be0e0460",
   "metadata": {},
   "source": [
    "3. ***List all three digit numbers between 100 and 1000 whose sum of individual digits \n",
    "equate to 11. Use `filter()`***"
   ]
  },
  {
   "cell_type": "code",
   "execution_count": 37,
   "id": "a898a4e6-0e49-43ce-807a-8b4527c66f1e",
   "metadata": {},
   "outputs": [
    {
     "name": "stdout",
     "output_type": "stream",
     "text": [
      "[119, 128, 137, 146, 155, 164, 173, 182, 191, 209, 218, 227, 236, 245, 254, 263, 272, 281, 290, 308, 317, 326, 335, 344, 353, 362, 371, 380, 407, 416, 425, 434, 443, 452, 461, 470, 506, 515, 524, 533, 542, 551, 560, 605, 614, 623, 632, 641, 650, 704, 713, 722, 731, 740, 803, 812, 821, 830, 902, 911, 920]\n"
     ]
    }
   ],
   "source": [
    "number = range(100,1000)\n",
    "result = list(filter(lambda n: sum(int(d) for d in str(n)) ==11,number ))\n",
    "print(result)"
   ]
  },
  {
   "cell_type": "markdown",
   "id": "b3334ef8-7caa-4f9a-bd6b-1c7702471a51",
   "metadata": {},
   "source": [
    "4. ***Sort the list in descending order with respect to the last charecter of the element.***  \n",
    "`Given L = [\"red\", \"green\", \"blue\", \"yellow\"]`  \n",
    "`output -> ['yellow', 'green', 'blue', 'red']`"
   ]
  },
  {
   "cell_type": "code",
   "execution_count": 42,
   "id": "43199210-49f1-4b2f-8862-879faff1748c",
   "metadata": {},
   "outputs": [
    {
     "name": "stdout",
     "output_type": "stream",
     "text": [
      "['yellow', 'green', 'blue', 'red']\n"
     ]
    }
   ],
   "source": [
    "L = [\"red\", \"green\", \"blue\", \"yellow\"]\n",
    "\n",
    "result = sorted(L , key=lambda x: x[-1], reverse=True)\n",
    "\n",
    "print(result)"
   ]
  },
  {
   "cell_type": "markdown",
   "id": "1979d270-f78d-474a-8de4-cabaee88fa88",
   "metadata": {},
   "source": [
    "## Session 2: "
   ]
  },
  {
   "cell_type": "markdown",
   "id": "42d50bd0-7629-4260-8713-30fac3b52226",
   "metadata": {},
   "source": [
    "1. ***Given a list of numbers, create a new list containing the squares of only the even numbers.***"
   ]
  },
  {
   "cell_type": "code",
   "execution_count": 45,
   "id": "85f0a316-751b-4713-81df-168cda605ea9",
   "metadata": {},
   "outputs": [
    {
     "name": "stdout",
     "output_type": "stream",
     "text": [
      "[4, 16, 36, 64, 100]\n",
      "[4, 16, 36, 64, 100]\n"
     ]
    }
   ],
   "source": [
    "# method 1\n",
    "numbers = [1, 2, 3, 4, 5, 6, 7, 8, 9, 10]\n",
    "squares_of_evens = [x**2 for x in numbers if x % 2 == 0]\n",
    "print(squares_of_evens)\n",
    "\n",
    "#method 2\n",
    "squares_of_evens = list(map(lambda x: x**2, filter(lambda x: x % 2 == 0, numbers)))\n",
    "print(squares_of_evens)"
   ]
  },
  {
   "cell_type": "markdown",
   "id": "63b6de82-a8e6-4a18-b2f9-ae0e42b5ad0a",
   "metadata": {},
   "source": [
    "2. ***Given a list of words, create a dictionary where the keys are words and the values are their lengths.***  \n",
    "   `words = [\"apple\", \"banana\", \"cherry\", \"date\", \"elderberry\"]`"
   ]
  },
  {
   "cell_type": "code",
   "execution_count": 52,
   "id": "41ab381f-f932-4a67-a795-2679634b795b",
   "metadata": {},
   "outputs": [
    {
     "name": "stdout",
     "output_type": "stream",
     "text": [
      "{'apple': 5, 'banana': 6, 'cherry': 6, 'date': 4, 'elderberry': 10}\n",
      "{'apple': 5, 'banana': 6, 'cherry': 6, 'date': 4, 'elderberry': 10}\n",
      "{'apple': 5, 'banana': 6, 'cherry': 6, 'date': 4, 'elderberry': 10}\n"
     ]
    }
   ],
   "source": [
    "#  Method 1: Using Dictionary Comprehension\n",
    "words = [\"apple\", \"banana\", \"cherry\", \"date\", \"elderberry\"]\n",
    "word_length = {word: len(word) for word in words}\n",
    "print(word_length)\n",
    "\n",
    "# Method 2: Using a for loop\n",
    "word_lengths = {}\n",
    "for word in words:\n",
    "    word_lengths[word] = len(word)\n",
    "\n",
    "print(word_lengths)\n",
    "\n",
    "# Method 3: Using map() with dict() and zip()\n",
    "word_lengths = dict(zip(words, map(len, words)))\n",
    "\n",
    "print(word_lengths)"
   ]
  },
  {
   "cell_type": "markdown",
   "id": "4342477b-de7a-42df-9eac-cc3f4b18df7d",
   "metadata": {},
   "source": [
    "3. ***Given a list of tuples with names and ages, create a dictionary of names with ages only if age is greater than 18.***  \n",
    "   `[(\"Alice\", 25), (\"Bob\", 17), (\"Charlie\", 19), (\"David\", 16)]`"
   ]
  },
  {
   "cell_type": "code",
   "execution_count": 55,
   "id": "4b55378e-2b9c-4b1a-9c84-9f99eada3c43",
   "metadata": {},
   "outputs": [
    {
     "name": "stdout",
     "output_type": "stream",
     "text": [
      "{'Alice': 25, 'Charlie': 19}\n",
      "{'Alice': 25, 'Charlie': 19}\n"
     ]
    }
   ],
   "source": [
    "# Method 1: Using Dictionary Comprehension\n",
    "people = [(\"Alice\", 25), (\"Bob\", 17), (\"Charlie\", 19), (\"David\", 16)]\n",
    "adults = {name: age for name, age, in people if age >18}\n",
    "print(adults)\n",
    "# Method 2: Using a for loop\n",
    "adults = {}\n",
    "for name, age in people:\n",
    "    if age > 18:\n",
    "        adults[name] = age\n",
    "print(adults)"
   ]
  },
  {
   "cell_type": "markdown",
   "id": "826d7981-4eca-4160-989e-fb8ddf5e06bd",
   "metadata": {},
   "source": [
    "4. ***Flatten a 2D list into a 1D list using a list comprehension.***  \n",
    "    `matrix = [[1, 2, 3], [4, 5, 6], [7, 8, 9]]`"
   ]
  },
  {
   "cell_type": "code",
   "execution_count": 56,
   "id": "93fbe06e-feb3-4fa5-b8b3-8354e7457320",
   "metadata": {},
   "outputs": [
    {
     "name": "stdout",
     "output_type": "stream",
     "text": [
      "[1, 2, 3, 4, 5, 6, 7, 8, 9]\n"
     ]
    }
   ],
   "source": [
    "matrix = [[1, 2, 3], [4, 5, 6], [7, 8, 9]]\n",
    "flattened = [num for row in matrix for num in row]\n",
    "print(flattened)\n"
   ]
  },
  {
   "cell_type": "markdown",
   "id": "b36c9cf8-86cc-42f5-808d-444a1452236c",
   "metadata": {},
   "source": [
    "5. ***Given a string, create a dictionary where the keys are characters and values are their frequencies.***  \n",
    "    `text = \"comprehension\"`"
   ]
  },
  {
   "cell_type": "code",
   "execution_count": 61,
   "id": "26c24383-e1ad-48aa-8f35-7119ff616f7f",
   "metadata": {},
   "outputs": [
    {
     "name": "stdout",
     "output_type": "stream",
     "text": [
      "{'o': 2, 'c': 1, 'm': 1, 'h': 1, 'n': 2, 'e': 2, 'i': 1, 'r': 1, 's': 1, 'p': 1}\n",
      "{'c': 1, 'o': 2, 'm': 1, 'p': 1, 'r': 1, 'e': 2, 'h': 1, 'n': 2, 's': 1, 'i': 1}\n"
     ]
    }
   ],
   "source": [
    "# Method 1: Using Dictionary Comprehension + count()\n",
    "text = \"comprehension\"\n",
    "char_freq = {char: text.count(char) for char in set(text)}\n",
    "print(char_freq)\n",
    "\n",
    "# Method 2: Using a for loop\n",
    "char_freq = {}\n",
    "for char in text:\n",
    "    if char in char_freq:\n",
    "        char_freq[char] += 1\n",
    "    else:\n",
    "        char_freq[char] = 1\n",
    "\n",
    "print(char_freq)"
   ]
  },
  {
   "cell_type": "markdown",
   "id": "04dee627-5d2c-4df1-a759-b8477c53ef41",
   "metadata": {},
   "source": [
    "6. ***What is the time required to find all the prime numbers between a given range.***  \n",
    "   `Example: a -> 3`    \n",
    "            `b -> 10`  \n",
    "            `Output: 3, 5, 7`    \n",
    "            `Time: 0.0002 seconds`  "
   ]
  },
  {
   "cell_type": "code",
   "execution_count": null,
   "id": "4b2ad6f6-aed9-4630-b8be-b7086216315e",
   "metadata": {},
   "outputs": [],
   "source": []
  },
  {
   "cell_type": "markdown",
   "id": "bdac588c-6a5c-42e4-b704-b44c2e56f7ce",
   "metadata": {},
   "source": [
    "7. ***Come up with an algorithm to flatten a list and implement it in python:***\n",
    "   Example: [1, 2, 3, [4, 5, [6, 7]], 8]\n",
    "   Output: [1, 2, 3, 4, 5, 6, 7, 8]"
   ]
  }
 ],
 "metadata": {
  "kernelspec": {
   "display_name": "Python 3 (ipykernel)",
   "language": "python",
   "name": "python3"
  },
  "language_info": {
   "codemirror_mode": {
    "name": "ipython",
    "version": 3
   },
   "file_extension": ".py",
   "mimetype": "text/x-python",
   "name": "python",
   "nbconvert_exporter": "python",
   "pygments_lexer": "ipython3",
   "version": "3.12.4"
  }
 },
 "nbformat": 4,
 "nbformat_minor": 5
}
