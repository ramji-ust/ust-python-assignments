{
 "cells": [
  {
   "cell_type": "markdown",
   "metadata": {},
   "source": [
    "## Session 2"
   ]
  },
  {
   "cell_type": "markdown",
   "metadata": {},
   "source": [
    "2. ***Create nfactorial(n) which raises an exception if the input value is 0 or less, test it***  \n"
   ]
  },
  {
   "cell_type": "code",
   "execution_count": 1,
   "metadata": {},
   "outputs": [
    {
     "name": "stdout",
     "output_type": "stream",
     "text": [
      "120\n",
      "⚠ Input must be greater than 0\n"
     ]
    }
   ],
   "source": [
    "def nfactorial(n):\n",
    "    if n <= 0:\n",
    "        raise ValueError(\"Input must be greater than 0\")\n",
    "    if n == 1:\n",
    "        return 1\n",
    "    else:\n",
    "        return n * nfactorial(n-1)\n",
    "\n",
    "# Example test\n",
    "try:\n",
    "    print(nfactorial(5))  # Output: 120\n",
    "    print(nfactorial(0))  # Should raise exception\n",
    "except ValueError as e:\n",
    "    print(\"\\U000026A0\", e)  # Warning emoji\n"
   ]
  },
  {
   "cell_type": "markdown",
   "metadata": {},
   "source": [
    "3. ***Upgrade the getSpan(s, ss) function to raise an exception if ss = '' or s = '', test it***\n"
   ]
  },
  {
   "cell_type": "code",
   "execution_count": 2,
   "metadata": {},
   "outputs": [
    {
     "name": "stdout",
     "output_type": "stream",
     "text": [
      "(2, [(2, 4), (5, 7)])\n",
      "⚠ Both s and ss must be non-empty strings\n"
     ]
    }
   ],
   "source": [
    "def getspan(s, ss):\n",
    "    if not s or not ss:\n",
    "        raise ValueError(\"Both s and ss must be non-empty strings\")\n",
    "\n",
    "    spans = []\n",
    "    i = 0\n",
    "    while i <= len(s) - len(ss):\n",
    "        if s[i:i+len(ss)] == ss:\n",
    "            spans.append((i, i+len(ss)))\n",
    "            i += len(ss)\n",
    "        else:\n",
    "            i += 1\n",
    "    return (len(spans), spans)\n",
    "\n",
    "# Example test\n",
    "try:\n",
    "    print(getspan('mississippi', 'ss'))  # Output: (2, [(2, 4), (5, 7)])\n",
    "    print(getspan('', 'ss'))  # Should raise exception\n",
    "except ValueError as e:\n",
    "    print(\"\\U000026A0\", e)\n"
   ]
  },
  {
   "cell_type": "code",
   "execution_count": null,
   "metadata": {},
   "outputs": [],
   "source": []
  }
 ],
 "metadata": {
  "kernelspec": {
   "display_name": "Python 3",
   "language": "python",
   "name": "python3"
  },
  "language_info": {
   "codemirror_mode": {
    "name": "ipython",
    "version": 3
   },
   "file_extension": ".py",
   "mimetype": "text/x-python",
   "name": "python",
   "nbconvert_exporter": "python",
   "pygments_lexer": "ipython3",
   "version": "3.13.3"
  }
 },
 "nbformat": 4,
 "nbformat_minor": 2
}
