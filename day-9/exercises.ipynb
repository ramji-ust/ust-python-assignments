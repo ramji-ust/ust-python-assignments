{
 "cells": [
  {
   "cell_type": "markdown",
   "id": "41589fcd-1dc2-4e8a-9f66-d5276660d0a7",
   "metadata": {},
   "source": [
    "## class exercises"
   ]
  },
  {
   "cell_type": "code",
   "execution_count": null,
   "id": "a7becec6-e041-4cfb-9702-f6d3011831ba",
   "metadata": {},
   "outputs": [],
   "source": [
    "***Create a employee class with the following features:name, age, company, gross_salary, tax_rate, net_salary*** \n",
    "Implement methods to: print information, calculate net_salary based on tax rate, set the gross salary, set the tax rate"
   ]
  }
 ],
 "metadata": {
  "kernelspec": {
   "display_name": "Python 3 (ipykernel)",
   "language": "python",
   "name": "python3"
  },
  "language_info": {
   "codemirror_mode": {
    "name": "ipython",
    "version": 3
   },
   "file_extension": ".py",
   "mimetype": "text/x-python",
   "name": "python",
   "nbconvert_exporter": "python",
   "pygments_lexer": "ipython3",
   "version": "3.12.4"
  }
 },
 "nbformat": 4,
 "nbformat_minor": 5
}
