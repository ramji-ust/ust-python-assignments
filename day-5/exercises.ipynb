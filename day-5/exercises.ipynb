{
 "cells": [
  {
   "cell_type": "markdown",
   "id": "fb0d4e70-f47b-4e65-ab31-3dc25aa67c89",
   "metadata": {},
   "source": [
    "## Session 1:"
   ]
  },
  {
   "cell_type": "markdown",
   "id": "7c559eb6-011a-4503-889e-20334ef37af5",
   "metadata": {},
   "source": [
    "1. ***Write a function to return the time required to double the invested amount and given rate of interest***"
   ]
  },
  {
   "cell_type": "code",
   "execution_count": null,
   "id": "1e9a048e-de00-4bc4-b018-97110aa5f7c3",
   "metadata": {},
   "outputs": [],
   "source": []
  },
  {
   "cell_type": "markdown",
   "id": "384451aa-dad5-4c45-8d44-e35d032b5168",
   "metadata": {},
   "source": [
    "2. ***Write a function to find the second largest number in the list***  \n",
    "   `Example: Input <- [34, 56, 67, 43]`  \n",
    "           `Outupt -> 56`  "
   ]
  },
  {
   "cell_type": "code",
   "execution_count": null,
   "id": "21666ff4-500e-40c5-82f0-1240e312959d",
   "metadata": {},
   "outputs": [],
   "source": []
  },
  {
   "cell_type": "markdown",
   "id": "a7436145-1c90-47ce-b8ab-1f1ae1325b9d",
   "metadata": {},
   "source": [
    "3. ***Write a function to print charecter pyramid***  \n",
    "   `Example: genPyramic(3, '*')`  \n",
    "                 `*`  \n",
    "                `***`  \n",
    "               `*****`  "
   ]
  },
  {
   "cell_type": "code",
   "execution_count": null,
   "id": "f5bf2a83-777d-4f30-b33d-63c277db7430",
   "metadata": {},
   "outputs": [],
   "source": []
  },
  {
   "cell_type": "markdown",
   "id": "14cf6179-4332-4e59-89c7-f3bc6b638bcf",
   "metadata": {},
   "source": [
    "## Session 2:"
   ]
  },
  {
   "cell_type": "markdown",
   "id": "422af81d-f56a-4e32-acb9-68f3f2f91a5c",
   "metadata": {},
   "source": [
    "1. ***Write a functions that returns the jumbled version of the words with spaces and capital letters***  \n",
    "   `Example: Input <- jumble(\"apples\")`  \n",
    "            `Output -> P P L A E S`   "
   ]
  },
  {
   "cell_type": "code",
   "execution_count": null,
   "id": "3cedab1a-3104-4edb-9106-d414aecfb39a",
   "metadata": {},
   "outputs": [],
   "source": []
  },
  {
   "cell_type": "markdown",
   "id": "bedee35d-6bae-4be1-b937-501e9c37b346",
   "metadata": {},
   "source": [
    "2. ***Write a function to determine if a number is a fibonacci number***  \n",
    "   `Example: Input <- 8`\n",
    "            `OUtput -> 8 is in the fibonacci range`"
   ]
  },
  {
   "cell_type": "markdown",
   "id": "d6d6c167-b6db-47e5-8301-60fa4a355470",
   "metadata": {},
   "source": [
    "3. ***Write a python function to merge two dictionaries***  \n",
    "   `Example: d1 = { 'a': 20, 'b': 30 }`  \n",
    "            `d2 = { 'b': 40, 'c': 50 }`  \n",
    "            `Output -> { 'a' : 20, 'b':70, 'c' : 50 }`  \n",
    "    `Merge rules: Numbers -> add`  \n",
    "                 `Strings -> concatenate`  \n",
    "                 `List, set -> Merge`  \n",
    "                 `Tuple -> List of tuples`  \n",
    "                 `Dictionary -> Merge`  "
   ]
  },
  {
   "cell_type": "code",
   "execution_count": null,
   "id": "d3f62c76-db42-457d-ac94-8b1732020d01",
   "metadata": {},
   "outputs": [],
   "source": []
  },
  {
   "cell_type": "markdown",
   "id": "b7c7841a-97b4-4a0d-9922-1bd274a67b4e",
   "metadata": {},
   "source": [
    "4. ***Write a function that takes a mix of numbers and categorizes them into positives, negatives, and zeros. \n",
    "   It should return the count of each category and their respective sums.***  "
   ]
  },
  {
   "cell_type": "code",
   "execution_count": null,
   "id": "6639f3d4-2765-4877-a765-cc5ae7404336",
   "metadata": {},
   "outputs": [],
   "source": []
  },
  {
   "cell_type": "markdown",
   "id": "9efc3b48-9424-4954-a5d0-32d314be4b2c",
   "metadata": {},
   "source": [
    "5. ***Create a function authenticator(username, password) that returns another function, \n",
    "   which can be called to access a secure message only if the username and password match.***  "
   ]
  },
  {
   "cell_type": "markdown",
   "id": "97e23ca5-24bf-412d-b180-8e015ab32cd4",
   "metadata": {},
   "source": [
    "## Session 3:\n"
   ]
  },
  {
   "cell_type": "markdown",
   "id": "7098fcec-ea98-48c3-8e39-38faf8f3d7cd",
   "metadata": {},
   "source": [
    "1. ***Write a recursive function to compute the nth Fibonacci number.***\n"
   ]
  },
  {
   "cell_type": "code",
   "execution_count": null,
   "id": "13d4d91b-ec4d-4b23-a71e-2a9f61f4abc4",
   "metadata": {},
   "outputs": [],
   "source": []
  },
  {
   "cell_type": "markdown",
   "id": "65acffd1-4a7c-43b6-8cb4-9e564e16ba1b",
   "metadata": {},
   "source": [
    "2. ***Write a recursive function to compute the factorial of a number.*** \n"
   ]
  },
  {
   "cell_type": "code",
   "execution_count": null,
   "id": "02e19b37-0bc2-4c45-aa64-f49d6af414e0",
   "metadata": {},
   "outputs": [],
   "source": []
  },
  {
   "cell_type": "markdown",
   "id": "332b51dd-e24c-4c1b-bb2d-c55eaf63031b",
   "metadata": {},
   "source": [
    "3. ***Generate all the subsets of a given set - explore and explain***  \n",
    "    `Input: generate_subsets([1, 2, 3])`  \n",
    "    `Output: []`  \n",
    "            `[3]`  \n",
    "            `[2]`  \n",
    "            `[2, 3]`  \n",
    "            `[1]`  \n",
    "            `[1, 3]`  \n",
    "            `[1, 2]`  \n",
    "            `[1, 2, 3]`  "
   ]
  },
  {
   "cell_type": "code",
   "execution_count": null,
   "id": "b3f04583-8578-4a1f-8465-cd00ee384ac8",
   "metadata": {},
   "outputs": [],
   "source": []
  },
  {
   "cell_type": "markdown",
   "id": "be8f6347-83b9-43e1-95b4-1fc1788def22",
   "metadata": {},
   "source": [
    "4. ***Write a function that takes any number of lists and returns a list of elements that are common to all.***  \n",
    "\n",
    "    `# Example usage:`  \n",
    "    `list1 = [1, 2, 3, 4, 5]`  \n",
    "    `list2 = [2, 3, 5, 7, 9]`  \n",
    "    `list3 = [1, 2, 5, 8, 10]`  \n",
    "\n",
    "    `print(find_common(list1, list2, list3))`  "
   ]
  },
  {
   "cell_type": "code",
   "execution_count": null,
   "id": "0cc19ce0-34b3-4de3-82dd-24d422c75ae5",
   "metadata": {},
   "outputs": [],
   "source": []
  },
  {
   "cell_type": "code",
   "execution_count": null,
   "id": "41144e11-c975-44b9-bb9a-93d5531d3df7",
   "metadata": {},
   "outputs": [],
   "source": [
    "## Session 3:\n",
    "\n",
    "\n",
    " [40]\n",
    "---------------------------------------------------------------------------------------------------\n",
    "\n",
    "1. Write a recursive function to compute the nth Fibonacci number.\n",
    "2. ***Write a recursive function to compute the factorial of a number.*** \n",
    "3. ***Generate all the subsets of a given set - explore and explain***\n",
    "    Input: generate_subsets([1, 2, 3])\n",
    "    Output: []\n",
    "            [3]\n",
    "            [2]\n",
    "            [2, 3]\n",
    "            [1]\n",
    "            [1, 3]\n",
    "            [1, 2]\n",
    "            [1, 2, 3]\n",
    "4. Write a function that takes any number of lists and returns a list of elements that are common to all.\n",
    "\n",
    "    # Example usage:\n",
    "    list1 = [1, 2, 3, 4, 5]\n",
    "    list2 = [2, 3, 5, 7, 9]\n",
    "    list3 = [1, 2, 5, 8, 10]\n",
    "\n",
    "    print(find_common(list1, list2, list3))\n",
    "\n"
   ]
  },
  {
   "cell_type": "code",
   "execution_count": null,
   "id": "e7fa3db9-2c8c-4fc4-9a5e-ca35fe6accae",
   "metadata": {},
   "outputs": [],
   "source": []
  },
  {
   "cell_type": "code",
   "execution_count": null,
   "id": "6cfadf6f-638b-42e0-951f-dc6eba5c685a",
   "metadata": {},
   "outputs": [],
   "source": []
  }
 ],
 "metadata": {
  "kernelspec": {
   "display_name": "Python 3 (ipykernel)",
   "language": "python",
   "name": "python3"
  },
  "language_info": {
   "codemirror_mode": {
    "name": "ipython",
    "version": 3
   },
   "file_extension": ".py",
   "mimetype": "text/x-python",
   "name": "python",
   "nbconvert_exporter": "python",
   "pygments_lexer": "ipython3",
   "version": "3.12.4"
  }
 },
 "nbformat": 4,
 "nbformat_minor": 5
}
