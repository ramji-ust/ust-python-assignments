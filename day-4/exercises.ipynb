{
 "cells": [
  {
   "cell_type": "markdown",
   "id": "33f8890b-6715-424d-8173-74dc65ce768b",
   "metadata": {},
   "source": [
    "## Session 1:\n"
   ]
  },
  {
   "cell_type": "markdown",
   "id": "abf29da3-e3f7-45e9-9bdf-fda238f402c2",
   "metadata": {},
   "source": [
    "#### Write a function to return the sum of individual digits \n",
    "Example: sum_individual(123) -> 6"
   ]
  },
  {
   "cell_type": "code",
   "execution_count": 3,
   "id": "4c7a1702-11f8-4560-957c-dabc8649940a",
   "metadata": {},
   "outputs": [
    {
     "name": "stdout",
     "output_type": "stream",
     "text": [
      "123\n"
     ]
    }
   ],
   "source": [
    "def sum_individual(number):\n",
    "    return number\n",
    "print(sum_individual(123))"
   ]
  },
  {
   "cell_type": "code",
   "execution_count": null,
   "id": "b0c51ca3-7cc6-45ec-8cd3-9bfd1af05b63",
   "metadata": {},
   "outputs": [],
   "source": []
  },
  {
   "cell_type": "code",
   "execution_count": null,
   "id": "93f6ba14-30e4-4a1c-b5f5-980fc5efc75e",
   "metadata": {},
   "outputs": [],
   "source": []
  },
  {
   "cell_type": "code",
   "execution_count": null,
   "id": "85f0a316-751b-4713-81df-168cda605ea9",
   "metadata": {},
   "outputs": [],
   "source": []
  },
  {
   "cell_type": "markdown",
   "id": "bdac588c-6a5c-42e4-b704-b44c2e56f7ce",
   "metadata": {},
   "source": [
    "Session 1: [30]\n",
    "-----------------------------------------------------------------------------------------\n",
    "\n",
    "Write a function to return the sum of individual digits \n",
    "Example: sum_individual(123) -> 6\n",
    "\n",
    "Create a list of squares of numbers between 1 and 10\n",
    "Use map()\n",
    "\n",
    "List all three digit numbers between 100 and 1000 whose sum of individual digits \n",
    "equate to 11. Use filter()\n",
    "\n",
    "Given L = [\"red\", \"green\", \"blue\", \"yellow\"]\n",
    "Sort the list in descending order with respect to the last charecter of the element\n",
    "output -> ['yellow', 'green', 'blue', 'red']\n",
    "\n",
    "Session 2: [30]\n",
    "-----------------------------------------------------------------------------------------\n",
    "\n",
    "1. Given a list of numbers, create a new list containing the squares of only the even numbers.\n",
    "2. Given a list of words, create a dictionary where the keys are words and the values are their lengths.\n",
    "   words = [\"apple\", \"banana\", \"cherry\", \"date\", \"elderberry\"]\n",
    "3. Given a list of tuples with names and ages, create a dictionary of names with ages only if age is greater than 18.\n",
    "   [(\"Alice\", 25), (\"Bob\", 17), (\"Charlie\", 19), (\"David\", 16)]\n",
    "4. Flatten a 2D list into a 1D list using a list comprehension.\n",
    "    matrix = [[1, 2, 3], [4, 5, 6], [7, 8, 9]]\n",
    "5. Given a string, create a dictionary where the keys are characters and values are their frequencies.\n",
    "    text = \"comprehension\"\n",
    "\n",
    "6. What is the time required to find all the prime numbers between a given range\n",
    "   Example: a -> 3\n",
    "            b -> 10\n",
    "            Output: 3, 5, 7\n",
    "            Time: 0.0002 seconds\n",
    "\n",
    "7. Come up with an algorithm to flatten a list and implement it in python:\n",
    "   Example: [1, 2, 3, [4, 5, [6, 7]], 8]\n",
    "            Output: [1, 2, 3, 4, 5, 6, 7, 8]"
   ]
  }
 ],
 "metadata": {
  "kernelspec": {
   "display_name": "Python 3 (ipykernel)",
   "language": "python",
   "name": "python3"
  },
  "language_info": {
   "codemirror_mode": {
    "name": "ipython",
    "version": 3
   },
   "file_extension": ".py",
   "mimetype": "text/x-python",
   "name": "python",
   "nbconvert_exporter": "python",
   "pygments_lexer": "ipython3",
   "version": "3.12.4"
  }
 },
 "nbformat": 4,
 "nbformat_minor": 5
}
