{
 "cells": [
  {
   "cell_type": "markdown",
   "id": "a4b84ffc-53ad-4531-b9af-e9cb05511543",
   "metadata": {},
   "source": [
    "## Session 1:"
   ]
  },
  {
   "cell_type": "markdown",
   "id": "3a1c4b61-ae0a-4ebd-8bd7-47175e1fb445",
   "metadata": {},
   "source": [
    "#### Given temperature t in Celcius, write a python expression to convert into farenheit [7]"
   ]
  },
  {
   "cell_type": "code",
   "execution_count": 1,
   "id": "0d3e7153-d631-41a9-a148-91646a5e904b",
   "metadata": {},
   "outputs": [
    {
     "name": "stdin",
     "output_type": "stream",
     "text": [
      "Enter temperature in Celsius:  36\n"
     ]
    },
    {
     "name": "stdout",
     "output_type": "stream",
     "text": [
      "36.0°C is equal to 96.8°F\n"
     ]
    }
   ],
   "source": [
    "t = float(input(\"Enter temperature in Celsius: \"))  # User inputs Celsius value\n",
    "F = (9/5) * t + 32  # Conversion formula\n",
    "print(f\"{t}°C is equal to {F}°F\")  # Display result"
   ]
  },
  {
   "cell_type": "code",
   "execution_count": 2,
   "id": "7735dba2-866c-4afb-9a03-ac802b4680e5",
   "metadata": {},
   "outputs": [
    {
     "name": "stdout",
     "output_type": "stream",
     "text": [
      "1.8\n"
     ]
    }
   ],
   "source": [
    "print(9/5)"
   ]
  },
  {
   "cell_type": "markdown",
   "id": "a2ba7ad6-4c12-478f-b620-57672b411792",
   "metadata": {},
   "source": [
    "#### Given two points A(x1, y1) and B(x2, y2), calculate the straight line distance between them [8]"
   ]
  },
  {
   "cell_type": "code",
   "execution_count": 4,
   "id": "80944671-e36f-4c5d-97ae-2306ab5556cd",
   "metadata": {},
   "outputs": [
    {
     "name": "stdin",
     "output_type": "stream",
     "text": [
      "Enter x1:  1\n",
      "Enter y1:  2\n",
      "Enter x2:  3\n",
      "Enter y2:  4\n"
     ]
    },
    {
     "name": "stdout",
     "output_type": "stream",
     "text": [
      "The distance between A(1.0, 2.0) and B(3.0, 4.0) is 2.83\n"
     ]
    }
   ],
   "source": [
    "# Input coordinates individually\n",
    "x1 = float(input(\"Enter x1: \"))\n",
    "y1 = float(input(\"Enter y1: \"))\n",
    "x2 = float(input(\"Enter x2: \"))\n",
    "y2 = float(input(\"Enter y2: \"))\n",
    "\n",
    "# Calculate distance using exponentiation (**0.5 instead of sqrt)\n",
    "distance = ((x2 - x1) ** 2 + (y2 - y1) ** 2) ** 0.5\n",
    "\n",
    "\n",
    "# Print result\n",
    "print(f\"The distance between A({x1}, {y1}) and B({x2}, {y2}) is {distance:.2f}\")\n"
   ]
  },
  {
   "cell_type": "markdown",
   "id": "f3c19933-1b13-4dfe-8ce8-8fc4282503d3",
   "metadata": {},
   "source": [
    "#### Calculate the area of the triangle with threen given points A(x1, y1), B(x2, y2), C(x3, y3) [15]"
   ]
  },
  {
   "cell_type": "code",
   "execution_count": 5,
   "id": "aa7afffe-09e4-4c1f-8bb0-642729335126",
   "metadata": {},
   "outputs": [
    {
     "name": "stdin",
     "output_type": "stream",
     "text": [
      "Enter x1:  1\n",
      "Enter y1:  2\n",
      "Enter x2:  4\n",
      "Enter y2:  5\n",
      "Enter x3:  6\n",
      "Enter y3:  5\n"
     ]
    },
    {
     "name": "stdout",
     "output_type": "stream",
     "text": [
      "The area of the triangle is -3.00\n"
     ]
    }
   ],
   "source": [
    "# Input coordinates\n",
    "x1 = float(input(\"Enter x1: \"))\n",
    "y1 = float(input(\"Enter y1: \"))\n",
    "x2 = float(input(\"Enter x2: \"))\n",
    "y2 = float(input(\"Enter y2: \"))\n",
    "x3 = float(input(\"Enter x3: \"))\n",
    "y3 = float(input(\"Enter y3: \"))\n",
    "\n",
    "# Calculate area (without abs)\n",
    "area = 0.5 * (x1 * (y2 - y3) + x2 * (y3 - y1) + x3 * (y1 - y2))\n",
    "\n",
    "# Print result\n",
    "print(f\"The area of the triangle is {area:.2f}\")\n"
   ]
  },
  {
   "cell_type": "markdown",
   "id": "7bd5db19-9412-4700-9e3c-c4107f1acfc9",
   "metadata": {},
   "source": [
    "## Session 2:"
   ]
  },
  {
   "cell_type": "markdown",
   "id": "e3f74886-1a1b-46e4-ac31-58020c433fe0",
   "metadata": {},
   "source": [
    "#### Write a program to calculate the height of a building given the distance of the measuring instrument from the building and angle formed "
   ]
  },
  {
   "cell_type": "code",
   "execution_count": null,
   "id": "44657c2e-16ec-4c88-ab40-f85d6f0c0ff3",
   "metadata": {},
   "outputs": [],
   "source": [
    "import math  # For trigonometric functions\n",
    "\n",
    "# Input values from user\n",
    "distance = float(input(\"Enter the distance from the building (in meters): \"))\n",
    "angle = float(input(\"Enter the angle of elevation (in degrees): \"))\n",
    "observer_height = float(input(\"Enter the observer's eye level height (in meters): \"))\n",
    "\n",
    "# Convert degrees to radians\n",
    "angle_radians = math.radians(angle)\n",
    "\n",
    "# Calculate the total height of the building\n",
    "building_height = observer_height + (distance * math.tan(angle_radians))\n",
    "\n",
    "# Print the result\n",
    "print(f\"The height of the building is {building_height:.2f} meters\")\n"
   ]
  },
  {
   "cell_type": "markdown",
   "id": "0f475c67-994c-4be3-a895-215ec75a13fe",
   "metadata": {},
   "source": [
    "#### Given three points in space A, B and C, determine if the points make a isoceles triangle, or right angled triangle or both [15]"
   ]
  },
  {
   "cell_type": "code",
   "execution_count": 2,
   "id": "f88268aa-406d-4844-aa1a-f02695550480",
   "metadata": {},
   "outputs": [
    {
     "name": "stdin",
     "output_type": "stream",
     "text": [
      "Enter coordinates of A (x y z):  1 2 3 \n",
      "Enter coordinates of B (x y z):  3 4 5 \n",
      "Enter coordinates of C (x y z):  4 5 6\n"
     ]
    },
    {
     "name": "stdout",
     "output_type": "stream",
     "text": [
      "The triangle is neither isosceles nor right-angled.\n"
     ]
    }
   ],
   "source": [
    "import math\n",
    "\n",
    "def distance(p1, p2):\n",
    "    return math.sqrt((p2[0] - p1[0])**2 + (p2[1] - p1[1])**2 + (p2[2] - p1[2])**2)\n",
    "\n",
    "def is_triangle_type(A, B, C):\n",
    "    # Calculate side lengths\n",
    "    AB = distance(A, B)\n",
    "    BC = distance(B, C)\n",
    "    CA = distance(C, A)\n",
    "    \n",
    "    # Check for isosceles\n",
    "    is_isosceles = (AB == BC) or (BC == CA) or (CA == AB)\n",
    "    \n",
    "    # Check for right triangle (Pythagorean theorem)\n",
    "    sides = sorted([AB, BC, CA])  # Sort sides to easily check a^2 + b^2 = c^2\n",
    "    is_right = math.isclose(sides[0]**2 + sides[1]**2, sides[2]**2)\n",
    "    \n",
    "    # Output result\n",
    "    if is_isosceles and is_right:\n",
    "        return \"The triangle is both isosceles and right-angled.\"\n",
    "    elif is_isosceles:\n",
    "        return \"The triangle is isosceles.\"\n",
    "    elif is_right:\n",
    "        return \"The triangle is right-angled.\"\n",
    "    else:\n",
    "        return \"The triangle is neither isosceles nor right-angled.\"\n",
    "\n",
    "# Input from user\n",
    "x1, y1, z1 = input(\"Enter coordinates of A (x y z): \").split()\n",
    "x2, y2, z2 = input(\"Enter coordinates of B (x y z): \").split()\n",
    "x3, y3, z3 = input(\"Enter coordinates of C (x y z): \").split()\n",
    "\n",
    "A = (float(x1), float(y1), float(z1))\n",
    "B = (float(x2), float(y2), float(z2))\n",
    "C = (float(x3), float(y3), float(z3))\n",
    "\n",
    "print(is_triangle_type(A, B, C))\n"
   ]
  },
  {
   "cell_type": "markdown",
   "id": "ed944987-81e3-4fbd-902a-3e54a82afbc8",
   "metadata": {},
   "source": [
    "#### Design a simple calculator which has the following functionality:add, sub, mul, div, mod, sqrt, log [15]\n",
    " "
   ]
  },
  {
   "cell_type": "code",
   "execution_count": 3,
   "id": "fba3fec9-8ea8-439b-9837-da63baf67e2b",
   "metadata": {},
   "outputs": [
    {
     "name": "stdout",
     "output_type": "stream",
     "text": [
      "Select operation:\n",
      "1. Add\n",
      "2. Subtract\n",
      "3. Multiply\n",
      "4. Divide\n",
      "5. Modulus\n",
      "6. Square Root\n",
      "7. Logarithm\n"
     ]
    },
    {
     "name": "stdin",
     "output_type": "stream",
     "text": [
      "Enter choice (1-7):  1\n",
      "Enter first number:  2\n",
      "Enter second number:  3\n"
     ]
    },
    {
     "name": "stdout",
     "output_type": "stream",
     "text": [
      "Result: 5.0\n"
     ]
    }
   ],
   "source": [
    "import math\n",
    "\n",
    "def add(a, b):\n",
    "    return a + b\n",
    "\n",
    "def sub(a, b):\n",
    "    return a - b\n",
    "\n",
    "def mul(a, b):\n",
    "    return a * b\n",
    "\n",
    "def div(a, b):\n",
    "    if b != 0:\n",
    "        return a / b\n",
    "    else:\n",
    "        return \"Error: Division by zero\"\n",
    "\n",
    "def mod(a, b):\n",
    "    if b != 0:\n",
    "        return a % b\n",
    "    else:\n",
    "        return \"Error: Modulo by zero\"\n",
    "\n",
    "def sqrt(a):\n",
    "    if a >= 0:\n",
    "        return math.sqrt(a)\n",
    "    else:\n",
    "        return \"Error: Square root of negative number\"\n",
    "\n",
    "def log(a):\n",
    "    if a > 0:\n",
    "        return math.log(a)\n",
    "    else:\n",
    "        return \"Error: Logarithm of non-positive number\"\n",
    "\n",
    "def calculator():\n",
    "    print(\"Select operation:\")\n",
    "    print(\"1. Add\")\n",
    "    print(\"2. Subtract\")\n",
    "    print(\"3. Multiply\")\n",
    "    print(\"4. Divide\")\n",
    "    print(\"5. Modulus\")\n",
    "    print(\"6. Square Root\")\n",
    "    print(\"7. Logarithm\")\n",
    "    \n",
    "    choice = input(\"Enter choice (1-7): \")\n",
    "    \n",
    "    if choice in ('1', '2', '3', '4', '5'):\n",
    "        a = float(input(\"Enter first number: \"))\n",
    "        b = float(input(\"Enter second number: \"))\n",
    "        \n",
    "        operations = {'1': add, '2': sub, '3': mul, '4': div, '5': mod}\n",
    "        print(\"Result:\", operations[choice](a, b))\n",
    "    \n",
    "    elif choice == '6':\n",
    "        a = float(input(\"Enter number: \"))\n",
    "        print(\"Result:\", sqrt(a))\n",
    "    \n",
    "    elif choice == '7':\n",
    "        a = float(input(\"Enter number: \"))\n",
    "        print(\"Result:\", log(a))\n",
    "    \n",
    "    else:\n",
    "        print(\"Invalid choice\")\n",
    "\n",
    "# Run the calculator\n",
    "calculator()\n"
   ]
  },
  {
   "cell_type": "markdown",
   "id": "09d9d530-461c-4e71-aa1e-127ed269ddc0",
   "metadata": {},
   "source": [
    "## Session 3:"
   ]
  },
  {
   "cell_type": "markdown",
   "id": "eaf8d702-2d1f-4fce-a680-3ea1316891de",
   "metadata": {},
   "source": [
    "#### Given an IP address string \"192-168-1-1\" correct it \n"
   ]
  },
  {
   "cell_type": "code",
   "execution_count": 10,
   "id": "4588d2e4-6db9-4f18-a40b-80b81432927d",
   "metadata": {},
   "outputs": [
    {
     "name": "stdout",
     "output_type": "stream",
     "text": [
      "192.168.1.1\n"
     ]
    }
   ],
   "source": [
    "ipaddress = \"192-168-1-1\"\n",
    "corrected_ip = ip_address.replace(\"-\",\".\")\n",
    "print(corrected_ip)\n"
   ]
  },
  {
   "cell_type": "markdown",
   "id": "cfa6e0bf-11db-4682-8f64-4c78634865e8",
   "metadata": {},
   "source": [
    "### Convert \"hello world\" to uppercase\n"
   ]
  },
  {
   "cell_type": "code",
   "execution_count": 11,
   "id": "923ed5c9-e26f-4014-9ffa-b3bba8a8cc94",
   "metadata": {},
   "outputs": [
    {
     "data": {
      "text/plain": [
       "'HELLO WORLD'"
      ]
     },
     "execution_count": 11,
     "metadata": {},
     "output_type": "execute_result"
    }
   ],
   "source": [
    "text = \"hello world\"\n",
    "text.upper()"
   ]
  },
  {
   "cell_type": "markdown",
   "id": "2495970e-6663-41be-ac02-9844848ae3c2",
   "metadata": {},
   "source": [
    "### Swap the case of \"PyThOn StRiNgS\""
   ]
  },
  {
   "cell_type": "code",
   "execution_count": 13,
   "id": "86265186-9996-4d3c-8645-a98b79b954ba",
   "metadata": {},
   "outputs": [
    {
     "data": {
      "text/plain": [
       "'pYtHoN sTrInGs'"
      ]
     },
     "execution_count": 13,
     "metadata": {},
     "output_type": "execute_result"
    }
   ],
   "source": [
    "text = \"PyThOn StRiNgS\"\n",
    "text.swapcase()"
   ]
  },
  {
   "cell_type": "markdown",
   "id": "a4279231-b907-4dbb-b81f-85e046d834dd",
   "metadata": {},
   "source": [
    "### Find the length of \"Hello, Python!\""
   ]
  },
  {
   "cell_type": "code",
   "execution_count": 1,
   "id": "98a0b74f-799c-4486-9801-e23c83669b0a",
   "metadata": {},
   "outputs": [
    {
     "data": {
      "text/plain": [
       "14"
      ]
     },
     "execution_count": 1,
     "metadata": {},
     "output_type": "execute_result"
    }
   ],
   "source": [
    "text = \"Hello, Python!\"\n",
    "len(text)\n"
   ]
  },
  {
   "cell_type": "markdown",
   "id": "5e34fa42-8af7-4a01-bd97-afab320fb779",
   "metadata": {},
   "source": [
    "#### Count how many times \"e\" appears in \"experience\""
   ]
  },
  {
   "cell_type": "code",
   "execution_count": 2,
   "id": "92acca65-8bc7-4e94-bdc7-67228a93c20e",
   "metadata": {},
   "outputs": [
    {
     "data": {
      "text/plain": [
       "4"
      ]
     },
     "execution_count": 2,
     "metadata": {},
     "output_type": "execute_result"
    }
   ],
   "source": [
    "text = \"experience\"\n",
    "text.count(\"e\")"
   ]
  },
  {
   "cell_type": "markdown",
   "id": "245ed349-0d7d-4feb-a70c-147fa6352e95",
   "metadata": {},
   "source": [
    "#### Check if \"Python programming\" starts with \"Py\"\n"
   ]
  },
  {
   "cell_type": "code",
   "execution_count": 3,
   "id": "565ab121-8f29-4b2d-b23e-4a02345521a5",
   "metadata": {},
   "outputs": [
    {
     "name": "stdout",
     "output_type": "stream",
     "text": [
      "True\n"
     ]
    }
   ],
   "source": [
    "text = \"Python programming\"\n",
    "result = text.startswith(\"Py\")\n",
    "print(result)"
   ]
  },
  {
   "cell_type": "markdown",
   "id": "a8155d50-a324-44dc-97a7-1a9a6784b194",
   "metadata": {},
   "source": [
    "#### Check if \"hello.txt\" ends with \".txt\"\n"
   ]
  },
  {
   "cell_type": "code",
   "execution_count": 6,
   "id": "553b301e-40e6-4b96-acf3-2d1a07eb7564",
   "metadata": {},
   "outputs": [
    {
     "name": "stdout",
     "output_type": "stream",
     "text": [
      "True\n"
     ]
    }
   ],
   "source": [
    "text = \"hello.txt\"\n",
    "result = text.endswith(\".txt\")\n",
    "print(result)"
   ]
  },
  {
   "cell_type": "markdown",
   "id": "37f048d1-4cf7-4b3a-8a63-7e04ff501f0d",
   "metadata": {},
   "source": [
    "#### Find the index of \"world\" in \"hello world\""
   ]
  },
  {
   "cell_type": "code",
   "execution_count": 9,
   "id": "2a6b3645-303e-4706-ade4-c79052f4879b",
   "metadata": {},
   "outputs": [
    {
     "data": {
      "text/plain": [
       "6"
      ]
     },
     "execution_count": 9,
     "metadata": {},
     "output_type": "execute_result"
    }
   ],
   "source": [
    "text = \"hello world\"\n",
    "text.index(\"world\")"
   ]
  },
  {
   "cell_type": "markdown",
   "id": "40ddc83c-c6b2-49ac-8176-eea81f1a2ab4",
   "metadata": {},
   "source": [
    "#### Replace \"Python\" with \"Java\" in \"I love Python\""
   ]
  },
  {
   "cell_type": "code",
   "execution_count": 12,
   "id": "055f412d-daa4-4d9c-8225-5a7e8e746318",
   "metadata": {},
   "outputs": [
    {
     "data": {
      "text/plain": [
       "'I love Java'"
      ]
     },
     "execution_count": 12,
     "metadata": {},
     "output_type": "execute_result"
    }
   ],
   "source": [
    "text = \"I love Python\"\n",
    "text.replace(\"Python\",\"Java\")\n"
   ]
  },
  {
   "cell_type": "markdown",
   "id": "80978439-285b-4935-a7ad-df18c4ce6d26",
   "metadata": {},
   "source": [
    "#### Remove leading and trailing spaces from \" Python \""
   ]
  },
  {
   "cell_type": "code",
   "execution_count": 14,
   "id": "e2883005-32fa-4b69-bf71-5ef7d4a37c44",
   "metadata": {},
   "outputs": [
    {
     "data": {
      "text/plain": [
       "'Python'"
      ]
     },
     "execution_count": 14,
     "metadata": {},
     "output_type": "execute_result"
    }
   ],
   "source": [
    "text = \" Python \"\n",
    "text.strip()"
   ]
  },
  {
   "cell_type": "markdown",
   "id": "939093fc-6bb8-474b-a68e-ec4fc215c6fe",
   "metadata": {},
   "source": [
    "### Split \"Learn Python Programming\" into words\n"
   ]
  },
  {
   "cell_type": "code",
   "execution_count": 15,
   "id": "621f3a7b-120d-45cd-a2e6-895276c432c6",
   "metadata": {},
   "outputs": [
    {
     "data": {
      "text/plain": [
       "['Learn', 'Python', 'Programming']"
      ]
     },
     "execution_count": 15,
     "metadata": {},
     "output_type": "execute_result"
    }
   ],
   "source": [
    "text = \"Learn Python Programming\"\n",
    "text.split()"
   ]
  },
  {
   "cell_type": "markdown",
   "id": "b3d92ea7-48dc-439a-b370-2bd7d61258d8",
   "metadata": {},
   "source": [
    "#### Join ['apple', 'banana', 'cherry'] with commas"
   ]
  },
  {
   "cell_type": "code",
   "execution_count": 16,
   "id": "e54849e0-ef45-46c9-aa10-604766a86474",
   "metadata": {},
   "outputs": [
    {
     "data": {
      "text/plain": [
       "'apple,banana,cherry'"
      ]
     },
     "execution_count": 16,
     "metadata": {},
     "output_type": "execute_result"
    }
   ],
   "source": [
    "text = ['apple', 'banana', 'cherry']\n",
    "\",\".join(text)"
   ]
  },
  {
   "cell_type": "markdown",
   "id": "dcb3a3d6-5287-46dd-9221-eaf3933c9337",
   "metadata": {},
   "source": [
    "#### Check if \"Python3\" is alphanumeric"
   ]
  },
  {
   "cell_type": "code",
   "execution_count": 17,
   "id": "735d5d97-2c7b-4714-84d1-c56ae30ff644",
   "metadata": {},
   "outputs": [
    {
     "data": {
      "text/plain": [
       "True"
      ]
     },
     "execution_count": 17,
     "metadata": {},
     "output_type": "execute_result"
    }
   ],
   "source": [
    "text = \"Python3\"\n",
    "text.isalnum()"
   ]
  },
  {
   "cell_type": "markdown",
   "id": "d46c3546-0751-4123-8572-04ae9bc79847",
   "metadata": {},
   "source": [
    "#### Convert \"5\" to a 3-digit string (\"005\")\n"
   ]
  },
  {
   "cell_type": "code",
   "execution_count": 20,
   "id": "7fb2ad7e-f05a-404e-bc14-3ff65a67b5f9",
   "metadata": {},
   "outputs": [
    {
     "data": {
      "text/plain": [
       "'005'"
      ]
     },
     "execution_count": 20,
     "metadata": {},
     "output_type": "execute_result"
    }
   ],
   "source": [
    "num = \"5\"\n",
    "num.zfill(3)"
   ]
  },
  {
   "cell_type": "markdown",
   "id": "93ad2572-ba35-43b1-bf17-2dbbe5c7f08b",
   "metadata": {},
   "source": [
    "###  Given name = \"Alice\" and age = 25, format \"Alice is 25 years old.\""
   ]
  },
  {
   "cell_type": "code",
   "execution_count": 23,
   "id": "49b3eabf-966b-446f-885e-8036b8f41c99",
   "metadata": {},
   "outputs": [
    {
     "name": "stdout",
     "output_type": "stream",
     "text": [
      "Alice is 25 years old.\n"
     ]
    }
   ],
   "source": [
    "name = \"Alice\"\n",
    "age = 25\n",
    "result = \"{} is {} years old.\".format(name, age)\n",
    "print(result)"
   ]
  },
  {
   "cell_type": "markdown",
   "id": "9f3b75d8-4e9a-4f69-a79f-80bb9a7373f0",
   "metadata": {},
   "source": [
    "#### Check if 'malayalam' is a palindrome\n"
   ]
  },
  {
   "cell_type": "code",
   "execution_count": 29,
   "id": "21d855f2-be31-437e-b765-e1550ee8f8ac",
   "metadata": {},
   "outputs": [
    {
     "name": "stdout",
     "output_type": "stream",
     "text": [
      "False\n"
     ]
    }
   ],
   "source": [
    "word = \"malayalam\"\n",
    "is_palindrome = word == word[::-1]\n",
    "print(is_palindrome)\n"
   ]
  },
  {
   "cell_type": "code",
   "execution_count": null,
   "id": "393c1286-d1e6-4665-92fc-3d2fdfb6933a",
   "metadata": {},
   "outputs": [],
   "source": []
  }
 ],
 "metadata": {
  "kernelspec": {
   "display_name": "Python 3 (ipykernel)",
   "language": "python",
   "name": "python3"
  },
  "language_info": {
   "codemirror_mode": {
    "name": "ipython",
    "version": 3
   },
   "file_extension": ".py",
   "mimetype": "text/x-python",
   "name": "python",
   "nbconvert_exporter": "python",
   "pygments_lexer": "ipython3",
   "version": "3.12.4"
  }
 },
 "nbformat": 4,
 "nbformat_minor": 5
}
