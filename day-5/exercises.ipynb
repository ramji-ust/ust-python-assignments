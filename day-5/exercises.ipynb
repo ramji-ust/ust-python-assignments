{
 "cells": [
  {
   "cell_type": "markdown",
   "id": "fb0d4e70-f47b-4e65-ab31-3dc25aa67c89",
   "metadata": {},
   "source": [
    "## Session 1:"
   ]
  },
  {
   "cell_type": "markdown",
   "id": "7c559eb6-011a-4503-889e-20334ef37af5",
   "metadata": {},
   "source": [
    "1. ***Write a function to return the time required to double the invested amount and given rate of interest***"
   ]
  },
  {
   "cell_type": "code",
   "execution_count": 5,
   "id": "1e9a048e-de00-4bc4-b018-97110aa5f7c3",
   "metadata": {},
   "outputs": [
    {
     "name": "stdout",
     "output_type": "stream",
     "text": [
      "Time to double: 12.0 years\n"
     ]
    }
   ],
   "source": [
    "def time_to_double(rate):\n",
    "    if rate <= 0:\n",
    "        return None  # Invalid interest rate\n",
    "    return 72 / rate\n",
    "\n",
    "# Example usage\n",
    "rate = 6  # 6% interest\n",
    "print(f\"Time to double: {time_to_double(rate)} years\")"
   ]
  },
  {
   "cell_type": "markdown",
   "id": "384451aa-dad5-4c45-8d44-e35d032b5168",
   "metadata": {},
   "source": [
    "2. ***Write a function to find the second largest number in the list***  \n",
    "   `Example: Input <- [34, 56, 67, 43]`  \n",
    "           `Outupt -> 56`  "
   ]
  },
  {
   "cell_type": "code",
   "execution_count": 3,
   "id": "21666ff4-500e-40c5-82f0-1240e312959d",
   "metadata": {},
   "outputs": [
    {
     "name": "stdout",
     "output_type": "stream",
     "text": [
      "56\n"
     ]
    }
   ],
   "source": [
    "def second_largest(numbers):\n",
    "    unique_numbers = list(set(numbers))  # Remove duplicates\n",
    "    unique_numbers.sort(reverse=True)  # Sort in descending order\n",
    "    return unique_numbers[1]\n",
    "\n",
    "# Example usage\n",
    "lst = [34, 56, 67, 43]\n",
    "print(second_largest(lst))  # Output -> 56"
   ]
  },
  {
   "cell_type": "markdown",
   "id": "a7436145-1c90-47ce-b8ab-1f1ae1325b9d",
   "metadata": {},
   "source": [
    "3. ***Write a function to print charecter pyramid***  \n",
    "   `Example: genPyramic(3, '*')`  \n",
    "                 `*`  \n",
    "                `***`  \n",
    "               `*****`  "
   ]
  },
  {
   "cell_type": "code",
   "execution_count": 4,
   "id": "f5bf2a83-777d-4f30-b33d-63c277db7430",
   "metadata": {},
   "outputs": [
    {
     "name": "stdout",
     "output_type": "stream",
     "text": [
      "  *\n",
      " ***\n",
      "*****\n"
     ]
    }
   ],
   "source": [
    "def genPyramid(n, ch):\n",
    "    for i in range(n):\n",
    "        spaces = ' ' * (n - i - 1)\n",
    "        chars = ch * (2 * i + 1)\n",
    "        print(spaces + chars)\n",
    "\n",
    "# Example usage\n",
    "genPyramid(3, '*')"
   ]
  },
  {
   "cell_type": "markdown",
   "id": "14cf6179-4332-4e59-89c7-f3bc6b638bcf",
   "metadata": {},
   "source": [
    "## Session 2:"
   ]
  },
  {
   "cell_type": "markdown",
   "id": "422af81d-f56a-4e32-acb9-68f3f2f91a5c",
   "metadata": {},
   "source": [
    "1. ***Write a functions that returns the jumbled version of the words with spaces and capital letters***  \n",
    "   `Example: Input <- jumble(\"apples\")`  \n",
    "            `Output -> P P L A E S`   "
   ]
  },
  {
   "cell_type": "code",
   "execution_count": 9,
   "id": "3cedab1a-3104-4edb-9106-d414aecfb39a",
   "metadata": {},
   "outputs": [
    {
     "name": "stdout",
     "output_type": "stream",
     "text": [
      "A L P P S E\n"
     ]
    }
   ],
   "source": [
    "import random\n",
    "\n",
    "def jumble(word):\n",
    "    chars = list(word.upper())\n",
    "    random.shuffle(chars)\n",
    "    return ' '.join(chars)\n",
    "\n",
    "# Example usage\n",
    "print(jumble(\"apples\"))  "
   ]
  },
  {
   "cell_type": "markdown",
   "id": "bedee35d-6bae-4be1-b937-501e9c37b346",
   "metadata": {},
   "source": [
    "2. ***Write a function to determine if a number is a fibonacci number***  \n",
    "   `Example: Input <- 8`\n",
    "            `OUtput -> 8 is in the fibonacci range`"
   ]
  },
  {
   "cell_type": "code",
   "execution_count": 10,
   "id": "82791a0a-cde7-4458-aabb-dc6816665e97",
   "metadata": {},
   "outputs": [
    {
     "name": "stdout",
     "output_type": "stream",
     "text": [
      "8 is in the Fibonacci range\n"
     ]
    }
   ],
   "source": [
    "import math\n",
    "\n",
    "def is_fibonacci(num):\n",
    "    # A number is Fibonacci if (5*num^2 + 4) or (5*num^2 - 4) is a perfect square\n",
    "    def is_perfect_square(x):\n",
    "        s = int(math.isqrt(x))\n",
    "        return s * s == x\n",
    "\n",
    "    if is_perfect_square(5 * num * num + 4) or is_perfect_square(5 * num * num - 4):\n",
    "        return f\"{num} is in the Fibonacci range\"\n",
    "    else:\n",
    "        return f\"{num} is NOT in the Fibonacci range\"\n",
    "\n",
    "# Example usage\n",
    "print(is_fibonacci(8)) "
   ]
  },
  {
   "cell_type": "markdown",
   "id": "d6d6c167-b6db-47e5-8301-60fa4a355470",
   "metadata": {},
   "source": [
    "3. ***Write a python function to merge two dictionaries***  \n",
    "   `Example: d1 = { 'a': 20, 'b': 30 }`  \n",
    "            `d2 = { 'b': 40, 'c': 50 }`  \n",
    "            `Output -> { 'a' : 20, 'b':70, 'c' : 50 }`  \n",
    "    `Merge rules: Numbers -> add`  \n",
    "                 `Strings -> concatenate`  \n",
    "                 `List, set -> Merge`  \n",
    "                 `Tuple -> List of tuples`  \n",
    "                 `Dictionary -> Merge`  "
   ]
  },
  {
   "cell_type": "code",
   "execution_count": 11,
   "id": "d3f62c76-db42-457d-ac94-8b1732020d01",
   "metadata": {},
   "outputs": [
    {
     "name": "stdout",
     "output_type": "stream",
     "text": [
      "{'a': 20, 'b': 70, 'c': 50}\n"
     ]
    }
   ],
   "source": [
    "def merge_dicts(d1, d2):\n",
    "    result = d1.copy()  # Start with a copy of d1\n",
    "    \n",
    "    for key, value in d2.items():\n",
    "        if key in result:\n",
    "            if isinstance(value, (int, float)) and isinstance(result[key], (int, float)):\n",
    "                result[key] += value  # Add numbers\n",
    "            elif isinstance(value, str) and isinstance(result[key], str):\n",
    "                result[key] += value  # Concatenate strings\n",
    "            elif isinstance(value, list) and isinstance(result[key], list):\n",
    "                result[key].extend(value)  # Merge lists\n",
    "            elif isinstance(value, set) and isinstance(result[key], set):\n",
    "                result[key].update(value)  # Merge sets\n",
    "            elif isinstance(value, tuple) and isinstance(result[key], tuple):\n",
    "                result[key] = list(result[key]) + list(value)  # Convert tuples to list of tuples\n",
    "            elif isinstance(value, dict) and isinstance(result[key], dict):\n",
    "                result[key] = merge_dicts(result[key], value)  # Merge dictionaries\n",
    "        else:\n",
    "            result[key] = value  # Add new key-value pair if key is not in d1\n",
    "\n",
    "    return result\n",
    "\n",
    "# Example usage\n",
    "d1 = { 'a': 20, 'b': 30 }\n",
    "d2 = { 'b': 40, 'c': 50 }\n",
    "print(merge_dicts(d1, d2))"
   ]
  },
  {
   "cell_type": "markdown",
   "id": "b7c7841a-97b4-4a0d-9922-1bd274a67b4e",
   "metadata": {},
   "source": [
    "4. ***Write a function that takes a mix of numbers and categorizes them into positives, negatives, and zeros. \n",
    "   It should return the count of each category and their respective sums.***  "
   ]
  },
  {
   "cell_type": "code",
   "execution_count": 12,
   "id": "6639f3d4-2765-4877-a765-cc5ae7404336",
   "metadata": {},
   "outputs": [
    {
     "name": "stdout",
     "output_type": "stream",
     "text": [
      "{'positives': {'count': 3, 'sum': 20}, 'negatives': {'count': 2, 'sum': -5}, 'zeros': {'count': 2, 'sum': 0}}\n"
     ]
    }
   ],
   "source": [
    "def categorize_numbers(nums):\n",
    "    positives = {'count': 0, 'sum': 0}\n",
    "    negatives = {'count': 0, 'sum': 0}\n",
    "    zeros = {'count': 0, 'sum': 0}\n",
    "\n",
    "    for num in nums:\n",
    "        if num > 0:\n",
    "            positives['count'] += 1\n",
    "            positives['sum'] += num\n",
    "        elif num < 0:\n",
    "            negatives['count'] += 1\n",
    "            negatives['sum'] += num\n",
    "        else:\n",
    "            zeros['count'] += 1\n",
    "            zeros['sum'] += num\n",
    "\n",
    "    return {'positives': positives, 'negatives': negatives, 'zeros': zeros}\n",
    "\n",
    "# Example usage\n",
    "nums = [5, -2, 0, 8, -3, 0, 7]\n",
    "result = categorize_numbers(nums)\n",
    "print(result)"
   ]
  },
  {
   "cell_type": "markdown",
   "id": "9efc3b48-9424-4954-a5d0-32d314be4b2c",
   "metadata": {},
   "source": [
    "5. ***Create a function authenticator(username, password) that returns another function, \n",
    "   which can be called to access a secure message only if the username and password match.***  "
   ]
  },
  {
   "cell_type": "code",
   "execution_count": 13,
   "id": "1ce53ee5-62be-4806-89a0-bc2b25c91e36",
   "metadata": {},
   "outputs": [
    {
     "name": "stdout",
     "output_type": "stream",
     "text": [
      "Secure message: This is a confidential message!\n",
      "Authentication failed. Access denied.\n"
     ]
    }
   ],
   "source": [
    "def authenticator(username, password):\n",
    "    # Inner function that will be used to access secure message\n",
    "    def access_secure_message(input_username, input_password):\n",
    "        if input_username == username and input_password == password:\n",
    "            return \"Secure message: This is a confidential message!\"\n",
    "        else:\n",
    "            return \"Authentication failed. Access denied.\"\n",
    "\n",
    "    return access_secure_message\n",
    "\n",
    "# Example usage\n",
    "auth_func = authenticator(\"admin\", \"12345\")\n",
    "\n",
    "# Trying with correct credentials\n",
    "print(auth_func(\"admin\", \"12345\"))  # Output: Secure message: This is a confidential message!\n",
    "\n",
    "# Trying with incorrect credentials\n",
    "print(auth_func(\"admin\", \"wrong_password\"))  # Output: Authentication failed. Access denied.\n"
   ]
  },
  {
   "cell_type": "markdown",
   "id": "97e23ca5-24bf-412d-b180-8e015ab32cd4",
   "metadata": {},
   "source": [
    "## Session 3:\n"
   ]
  },
  {
   "cell_type": "markdown",
   "id": "7098fcec-ea98-48c3-8e39-38faf8f3d7cd",
   "metadata": {},
   "source": [
    "1. ***Write a recursive function to compute the nth Fibonacci number.***\n"
   ]
  },
  {
   "cell_type": "code",
   "execution_count": 14,
   "id": "13d4d91b-ec4d-4b23-a71e-2a9f61f4abc4",
   "metadata": {},
   "outputs": [
    {
     "name": "stdout",
     "output_type": "stream",
     "text": [
      "Fibonacci(6) = 8\n"
     ]
    }
   ],
   "source": [
    "def fibonacci(n):\n",
    "    if n <= 1:\n",
    "        return n  # Base case: return n if 0 or 1\n",
    "    else:\n",
    "        return fibonacci(n - 1) + fibonacci(n - 2)  # Recursive case\n",
    "\n",
    "# Example usage\n",
    "n = 6\n",
    "print(f\"Fibonacci({n}) = {fibonacci(n)}\")  # Output -> Fibonacci(6) = 8"
   ]
  },
  {
   "cell_type": "markdown",
   "id": "65acffd1-4a7c-43b6-8cb4-9e564e16ba1b",
   "metadata": {},
   "source": [
    "2. ***Write a recursive function to compute the factorial of a number.*** \n"
   ]
  },
  {
   "cell_type": "code",
   "execution_count": 15,
   "id": "02e19b37-0bc2-4c45-aa64-f49d6af414e0",
   "metadata": {},
   "outputs": [
    {
     "name": "stdout",
     "output_type": "stream",
     "text": [
      "Factorial(5) = 120\n"
     ]
    }
   ],
   "source": [
    "def factorial(n):\n",
    "    if n == 0 or n == 1:\n",
    "        return 1  # Base case: 0! and 1! are both 1\n",
    "    else:\n",
    "        return n * factorial(n - 1)  # Recursive case\n",
    "\n",
    "# Example usage\n",
    "n = 5\n",
    "print(f\"Factorial({n}) = {factorial(n)}\")  # Output -> Factorial(5) = 120"
   ]
  },
  {
   "cell_type": "markdown",
   "id": "332b51dd-e24c-4c1b-bb2d-c55eaf63031b",
   "metadata": {},
   "source": [
    "3. ***Generate all the subsets of a given set - explore and explain***  \n",
    "    `Input: generate_subsets([1, 2, 3])`  \n",
    "    `Output: []`  \n",
    "            `[3]`  \n",
    "            `[2]`  \n",
    "            `[2, 3]`  \n",
    "            `[1]`  \n",
    "            `[1, 3]`  \n",
    "            `[1, 2]`  \n",
    "            `[1, 2, 3]`  "
   ]
  },
  {
   "cell_type": "code",
   "execution_count": 16,
   "id": "b3f04583-8578-4a1f-8465-cd00ee384ac8",
   "metadata": {},
   "outputs": [
    {
     "name": "stdout",
     "output_type": "stream",
     "text": [
      "[]\n",
      "[1]\n",
      "[1, 2]\n",
      "[1, 2, 3]\n",
      "[1, 3]\n",
      "[2]\n",
      "[2, 3]\n",
      "[3]\n"
     ]
    }
   ],
   "source": [
    "def generate_subsets(nums):\n",
    "    result = []\n",
    "    \n",
    "    # Helper function to perform the recursion\n",
    "    def backtrack(start, current_subset):\n",
    "        # Append the current subset to the result\n",
    "        result.append(list(current_subset))\n",
    "        \n",
    "        # Explore further subsets by adding each element\n",
    "        for i in range(start, len(nums)):\n",
    "            current_subset.append(nums[i])  # Include the element\n",
    "            backtrack(i + 1, current_subset)  # Recurse with next elements\n",
    "            current_subset.pop()  # Backtrack, remove the element\n",
    "    \n",
    "    # Start the backtracking process\n",
    "    backtrack(0, [])\n",
    "    return result\n",
    "\n",
    "# Example usage\n",
    "nums = [1, 2, 3]\n",
    "subsets = generate_subsets(nums)\n",
    "for subset in subsets:\n",
    "    print(subset)\n"
   ]
  },
  {
   "cell_type": "markdown",
   "id": "be8f6347-83b9-43e1-95b4-1fc1788def22",
   "metadata": {},
   "source": [
    "4. ***Write a function that takes any number of lists and returns a list of elements that are common to all.***  \n",
    "\n",
    "    `# Example usage:`  \n",
    "    `list1 = [1, 2, 3, 4, 5]`  \n",
    "    `list2 = [2, 3, 5, 7, 9]`  \n",
    "    `list3 = [1, 2, 5, 8, 10]`  \n",
    "\n",
    "    `print(find_common(list1, list2, list3))`  "
   ]
  },
  {
   "cell_type": "code",
   "execution_count": 17,
   "id": "0cc19ce0-34b3-4de3-82dd-24d422c75ae5",
   "metadata": {},
   "outputs": [
    {
     "name": "stdout",
     "output_type": "stream",
     "text": [
      "[2, 5]\n"
     ]
    }
   ],
   "source": [
    "def find_common(*lists):\n",
    "    # Convert the first list to a set\n",
    "    common_elements = set(lists[0])\n",
    "    \n",
    "    # Iterate over the rest of the lists\n",
    "    for lst in lists[1:]:\n",
    "        common_elements &= set(lst)  # Perform set intersection\n",
    "    \n",
    "    return list(common_elements)\n",
    "\n",
    "# Example usage\n",
    "list1 = [1, 2, 3, 4, 5]\n",
    "list2 = [2, 3, 5, 7, 9]\n",
    "list3 = [1, 2, 5, 8, 10]\n",
    "\n",
    "print(find_common(list1, list2, list3))  # Output -> [2, 5]\n"
   ]
  },
  {
   "cell_type": "code",
   "execution_count": null,
   "id": "e0cdaef6-265b-4977-b6f3-ef1844b8a517",
   "metadata": {},
   "outputs": [],
   "source": []
  }
 ],
 "metadata": {
  "kernelspec": {
   "display_name": "Python 3 (ipykernel)",
   "language": "python",
   "name": "python3"
  },
  "language_info": {
   "codemirror_mode": {
    "name": "ipython",
    "version": 3
   },
   "file_extension": ".py",
   "mimetype": "text/x-python",
   "name": "python",
   "nbconvert_exporter": "python",
   "pygments_lexer": "ipython3",
   "version": "3.12.4"
  }
 },
 "nbformat": 4,
 "nbformat_minor": 5
}
